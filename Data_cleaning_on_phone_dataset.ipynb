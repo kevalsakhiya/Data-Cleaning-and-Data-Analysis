{
  "nbformat": 4,
  "nbformat_minor": 0,
  "metadata": {
    "colab": {
      "provenance": [],
      "collapsed_sections": [
        "EEziQnl6oa2x",
        "_zkaWJEIxzwi",
        "OjpKJXWDymyu",
        "XchsSiaBzDQ3",
        "Y-MSraypzv46",
        "6PapLqjg0uJw",
        "PWNpJ3nl5sZ3",
        "_CsNquw57XBi",
        "tv9KJwMu8Tnf",
        "vulhkuBUDi_W",
        "uhb428gCE8jq",
        "xihvfzSrGAHz",
        "HXaU6CyTNzLV",
        "CcZuR_35P3Ys",
        "3AXl9et6SE_j",
        "IaPcusLfT1gx",
        "f_rHTsZnWlnb",
        "QRAdPR8nXcoo",
        "UNPzs4UWX9Xp",
        "5PIha1PYcWtu",
        "pvWjFyTceXtA"
      ],
      "mount_file_id": "1cuNoNgQIZ3LxdPhboVHORzhApPWMJGAq",
      "authorship_tag": "ABX9TyMmo9HGijqUBhtDAq0QaLVC",
      "include_colab_link": true
    },
    "kernelspec": {
      "name": "python3",
      "display_name": "Python 3"
    },
    "language_info": {
      "name": "python"
    }
  },
  "cells": [
    {
      "cell_type": "markdown",
      "metadata": {
        "id": "view-in-github",
        "colab_type": "text"
      },
      "source": [
        "<a href=\"https://colab.research.google.com/github/kevalsakhiya/Data-Cleaning-and-Data-Analysis/blob/main/Data_cleaning_on_phone_dataset.ipynb\" target=\"_parent\"><img src=\"https://colab.research.google.com/assets/colab-badge.svg\" alt=\"Open In Colab\"/></a>"
      ]
    },
    {
      "cell_type": "code",
      "execution_count": 11,
      "metadata": {
        "id": "0uwTOunHLTy4"
      },
      "outputs": [],
      "source": [
        "import pandas as pd\n",
        "import numpy as np\n",
        "import matplotlib.pyplot as plt\n",
        "import seaborn as sns\n",
        "import re"
      ]
    },
    {
      "cell_type": "code",
      "source": [
        "phone_df = pd.read_csv('/content/drive/MyDrive/dataset/phone_data.csv')"
      ],
      "metadata": {
        "id": "Np8cmqgeLWn1"
      },
      "execution_count": 12,
      "outputs": []
    },
    {
      "cell_type": "code",
      "source": [
        "phone_df.head(2)"
      ],
      "metadata": {
        "colab": {
          "base_uri": "https://localhost:8080/",
          "height": 248
        },
        "id": "UQSfzbTyMUAA",
        "outputId": "72819f96-9a06-4ed3-e2db-bae430255f65"
      },
      "execution_count": 13,
      "outputs": [
        {
          "output_type": "execute_result",
          "data": {
            "text/plain": [
              "   Unnamed: 0                                          model_url  \\\n",
              "0           0  https://www.smartprix.com/mobiles/intex-turbo-...   \n",
              "1           1  https://www.smartprix.com/mobiles/samsung-m880...   \n",
              "\n",
              "            model_name    price         rating voting_count  \\\n",
              "0       Intex Turbo i6     ₹899    --rating:3;     5 votes    \n",
              "1  Samsung M8800 Pixon  ₹22,500  --rating:4.3;    96 votes    \n",
              "\n",
              "    general_sim_type general_device_type  \\\n",
              "0  Dual Sim, GSM+GSM       Feature Phone   \n",
              "1    Single Sim, GSM                 NaN   \n",
              "\n",
              "                            display_type                  display_size  ...  \\\n",
              "0   Color TFT Screen (65K colors Colors)              320 x 480 pixels  ...   \n",
              "1  Color TFT Screen (256K colors Colors)  3.2 inches, 240 x 400 pixels  ...   \n",
              "\n",
              "  design_weight display_ppi connectivity_volte technical_chipset  \\\n",
              "0           NaN         NaN                NaN               NaN   \n",
              "1         121 g   ~ 146 PPI                NaN               NaN   \n",
              "\n",
              "  connectivity_5g extra_water_resistance battery_wireless_charging  \\\n",
              "0             NaN                    NaN                       NaN   \n",
              "1             NaN                    NaN                       NaN   \n",
              "\n",
              "  battery_reverse_charging battery_reverse_wireless_charging  \\\n",
              "0                      NaN                               NaN   \n",
              "1                      NaN                               NaN   \n",
              "\n",
              "  display_foldable_display  \n",
              "0                      NaN  \n",
              "1                      NaN  \n",
              "\n",
              "[2 rows x 37 columns]"
            ],
            "text/html": [
              "\n",
              "  <div id=\"df-16a03a8e-f795-4076-b480-e6de832b1453\" class=\"colab-df-container\">\n",
              "    <div>\n",
              "<style scoped>\n",
              "    .dataframe tbody tr th:only-of-type {\n",
              "        vertical-align: middle;\n",
              "    }\n",
              "\n",
              "    .dataframe tbody tr th {\n",
              "        vertical-align: top;\n",
              "    }\n",
              "\n",
              "    .dataframe thead th {\n",
              "        text-align: right;\n",
              "    }\n",
              "</style>\n",
              "<table border=\"1\" class=\"dataframe\">\n",
              "  <thead>\n",
              "    <tr style=\"text-align: right;\">\n",
              "      <th></th>\n",
              "      <th>Unnamed: 0</th>\n",
              "      <th>model_url</th>\n",
              "      <th>model_name</th>\n",
              "      <th>price</th>\n",
              "      <th>rating</th>\n",
              "      <th>voting_count</th>\n",
              "      <th>general_sim_type</th>\n",
              "      <th>general_device_type</th>\n",
              "      <th>display_type</th>\n",
              "      <th>display_size</th>\n",
              "      <th>...</th>\n",
              "      <th>design_weight</th>\n",
              "      <th>display_ppi</th>\n",
              "      <th>connectivity_volte</th>\n",
              "      <th>technical_chipset</th>\n",
              "      <th>connectivity_5g</th>\n",
              "      <th>extra_water_resistance</th>\n",
              "      <th>battery_wireless_charging</th>\n",
              "      <th>battery_reverse_charging</th>\n",
              "      <th>battery_reverse_wireless_charging</th>\n",
              "      <th>display_foldable_display</th>\n",
              "    </tr>\n",
              "  </thead>\n",
              "  <tbody>\n",
              "    <tr>\n",
              "      <th>0</th>\n",
              "      <td>0</td>\n",
              "      <td>https://www.smartprix.com/mobiles/intex-turbo-...</td>\n",
              "      <td>Intex Turbo i6</td>\n",
              "      <td>₹899</td>\n",
              "      <td>--rating:3;</td>\n",
              "      <td>5 votes</td>\n",
              "      <td>Dual Sim, GSM+GSM</td>\n",
              "      <td>Feature Phone</td>\n",
              "      <td>Color TFT Screen (65K colors Colors)</td>\n",
              "      <td>320 x 480 pixels</td>\n",
              "      <td>...</td>\n",
              "      <td>NaN</td>\n",
              "      <td>NaN</td>\n",
              "      <td>NaN</td>\n",
              "      <td>NaN</td>\n",
              "      <td>NaN</td>\n",
              "      <td>NaN</td>\n",
              "      <td>NaN</td>\n",
              "      <td>NaN</td>\n",
              "      <td>NaN</td>\n",
              "      <td>NaN</td>\n",
              "    </tr>\n",
              "    <tr>\n",
              "      <th>1</th>\n",
              "      <td>1</td>\n",
              "      <td>https://www.smartprix.com/mobiles/samsung-m880...</td>\n",
              "      <td>Samsung M8800 Pixon</td>\n",
              "      <td>₹22,500</td>\n",
              "      <td>--rating:4.3;</td>\n",
              "      <td>96 votes</td>\n",
              "      <td>Single Sim, GSM</td>\n",
              "      <td>NaN</td>\n",
              "      <td>Color TFT Screen (256K colors Colors)</td>\n",
              "      <td>3.2 inches, 240 x 400 pixels</td>\n",
              "      <td>...</td>\n",
              "      <td>121 g</td>\n",
              "      <td>~ 146 PPI</td>\n",
              "      <td>NaN</td>\n",
              "      <td>NaN</td>\n",
              "      <td>NaN</td>\n",
              "      <td>NaN</td>\n",
              "      <td>NaN</td>\n",
              "      <td>NaN</td>\n",
              "      <td>NaN</td>\n",
              "      <td>NaN</td>\n",
              "    </tr>\n",
              "  </tbody>\n",
              "</table>\n",
              "<p>2 rows × 37 columns</p>\n",
              "</div>\n",
              "    <div class=\"colab-df-buttons\">\n",
              "\n",
              "  <div class=\"colab-df-container\">\n",
              "    <button class=\"colab-df-convert\" onclick=\"convertToInteractive('df-16a03a8e-f795-4076-b480-e6de832b1453')\"\n",
              "            title=\"Convert this dataframe to an interactive table.\"\n",
              "            style=\"display:none;\">\n",
              "\n",
              "  <svg xmlns=\"http://www.w3.org/2000/svg\" height=\"24px\" viewBox=\"0 -960 960 960\">\n",
              "    <path d=\"M120-120v-720h720v720H120Zm60-500h600v-160H180v160Zm220 220h160v-160H400v160Zm0 220h160v-160H400v160ZM180-400h160v-160H180v160Zm440 0h160v-160H620v160ZM180-180h160v-160H180v160Zm440 0h160v-160H620v160Z\"/>\n",
              "  </svg>\n",
              "    </button>\n",
              "\n",
              "  <style>\n",
              "    .colab-df-container {\n",
              "      display:flex;\n",
              "      gap: 12px;\n",
              "    }\n",
              "\n",
              "    .colab-df-convert {\n",
              "      background-color: #E8F0FE;\n",
              "      border: none;\n",
              "      border-radius: 50%;\n",
              "      cursor: pointer;\n",
              "      display: none;\n",
              "      fill: #1967D2;\n",
              "      height: 32px;\n",
              "      padding: 0 0 0 0;\n",
              "      width: 32px;\n",
              "    }\n",
              "\n",
              "    .colab-df-convert:hover {\n",
              "      background-color: #E2EBFA;\n",
              "      box-shadow: 0px 1px 2px rgba(60, 64, 67, 0.3), 0px 1px 3px 1px rgba(60, 64, 67, 0.15);\n",
              "      fill: #174EA6;\n",
              "    }\n",
              "\n",
              "    .colab-df-buttons div {\n",
              "      margin-bottom: 4px;\n",
              "    }\n",
              "\n",
              "    [theme=dark] .colab-df-convert {\n",
              "      background-color: #3B4455;\n",
              "      fill: #D2E3FC;\n",
              "    }\n",
              "\n",
              "    [theme=dark] .colab-df-convert:hover {\n",
              "      background-color: #434B5C;\n",
              "      box-shadow: 0px 1px 3px 1px rgba(0, 0, 0, 0.15);\n",
              "      filter: drop-shadow(0px 1px 2px rgba(0, 0, 0, 0.3));\n",
              "      fill: #FFFFFF;\n",
              "    }\n",
              "  </style>\n",
              "\n",
              "    <script>\n",
              "      const buttonEl =\n",
              "        document.querySelector('#df-16a03a8e-f795-4076-b480-e6de832b1453 button.colab-df-convert');\n",
              "      buttonEl.style.display =\n",
              "        google.colab.kernel.accessAllowed ? 'block' : 'none';\n",
              "\n",
              "      async function convertToInteractive(key) {\n",
              "        const element = document.querySelector('#df-16a03a8e-f795-4076-b480-e6de832b1453');\n",
              "        const dataTable =\n",
              "          await google.colab.kernel.invokeFunction('convertToInteractive',\n",
              "                                                    [key], {});\n",
              "        if (!dataTable) return;\n",
              "\n",
              "        const docLinkHtml = 'Like what you see? Visit the ' +\n",
              "          '<a target=\"_blank\" href=https://colab.research.google.com/notebooks/data_table.ipynb>data table notebook</a>'\n",
              "          + ' to learn more about interactive tables.';\n",
              "        element.innerHTML = '';\n",
              "        dataTable['output_type'] = 'display_data';\n",
              "        await google.colab.output.renderOutput(dataTable, element);\n",
              "        const docLink = document.createElement('div');\n",
              "        docLink.innerHTML = docLinkHtml;\n",
              "        element.appendChild(docLink);\n",
              "      }\n",
              "    </script>\n",
              "  </div>\n",
              "\n",
              "\n",
              "<div id=\"df-845e9c4d-2d2a-405d-b9e9-eaa09a8dbf6a\">\n",
              "  <button class=\"colab-df-quickchart\" onclick=\"quickchart('df-845e9c4d-2d2a-405d-b9e9-eaa09a8dbf6a')\"\n",
              "            title=\"Suggest charts\"\n",
              "            style=\"display:none;\">\n",
              "\n",
              "<svg xmlns=\"http://www.w3.org/2000/svg\" height=\"24px\"viewBox=\"0 0 24 24\"\n",
              "     width=\"24px\">\n",
              "    <g>\n",
              "        <path d=\"M19 3H5c-1.1 0-2 .9-2 2v14c0 1.1.9 2 2 2h14c1.1 0 2-.9 2-2V5c0-1.1-.9-2-2-2zM9 17H7v-7h2v7zm4 0h-2V7h2v10zm4 0h-2v-4h2v4z\"/>\n",
              "    </g>\n",
              "</svg>\n",
              "  </button>\n",
              "\n",
              "<style>\n",
              "  .colab-df-quickchart {\n",
              "      --bg-color: #E8F0FE;\n",
              "      --fill-color: #1967D2;\n",
              "      --hover-bg-color: #E2EBFA;\n",
              "      --hover-fill-color: #174EA6;\n",
              "      --disabled-fill-color: #AAA;\n",
              "      --disabled-bg-color: #DDD;\n",
              "  }\n",
              "\n",
              "  [theme=dark] .colab-df-quickchart {\n",
              "      --bg-color: #3B4455;\n",
              "      --fill-color: #D2E3FC;\n",
              "      --hover-bg-color: #434B5C;\n",
              "      --hover-fill-color: #FFFFFF;\n",
              "      --disabled-bg-color: #3B4455;\n",
              "      --disabled-fill-color: #666;\n",
              "  }\n",
              "\n",
              "  .colab-df-quickchart {\n",
              "    background-color: var(--bg-color);\n",
              "    border: none;\n",
              "    border-radius: 50%;\n",
              "    cursor: pointer;\n",
              "    display: none;\n",
              "    fill: var(--fill-color);\n",
              "    height: 32px;\n",
              "    padding: 0;\n",
              "    width: 32px;\n",
              "  }\n",
              "\n",
              "  .colab-df-quickchart:hover {\n",
              "    background-color: var(--hover-bg-color);\n",
              "    box-shadow: 0 1px 2px rgba(60, 64, 67, 0.3), 0 1px 3px 1px rgba(60, 64, 67, 0.15);\n",
              "    fill: var(--button-hover-fill-color);\n",
              "  }\n",
              "\n",
              "  .colab-df-quickchart-complete:disabled,\n",
              "  .colab-df-quickchart-complete:disabled:hover {\n",
              "    background-color: var(--disabled-bg-color);\n",
              "    fill: var(--disabled-fill-color);\n",
              "    box-shadow: none;\n",
              "  }\n",
              "\n",
              "  .colab-df-spinner {\n",
              "    border: 2px solid var(--fill-color);\n",
              "    border-color: transparent;\n",
              "    border-bottom-color: var(--fill-color);\n",
              "    animation:\n",
              "      spin 1s steps(1) infinite;\n",
              "  }\n",
              "\n",
              "  @keyframes spin {\n",
              "    0% {\n",
              "      border-color: transparent;\n",
              "      border-bottom-color: var(--fill-color);\n",
              "      border-left-color: var(--fill-color);\n",
              "    }\n",
              "    20% {\n",
              "      border-color: transparent;\n",
              "      border-left-color: var(--fill-color);\n",
              "      border-top-color: var(--fill-color);\n",
              "    }\n",
              "    30% {\n",
              "      border-color: transparent;\n",
              "      border-left-color: var(--fill-color);\n",
              "      border-top-color: var(--fill-color);\n",
              "      border-right-color: var(--fill-color);\n",
              "    }\n",
              "    40% {\n",
              "      border-color: transparent;\n",
              "      border-right-color: var(--fill-color);\n",
              "      border-top-color: var(--fill-color);\n",
              "    }\n",
              "    60% {\n",
              "      border-color: transparent;\n",
              "      border-right-color: var(--fill-color);\n",
              "    }\n",
              "    80% {\n",
              "      border-color: transparent;\n",
              "      border-right-color: var(--fill-color);\n",
              "      border-bottom-color: var(--fill-color);\n",
              "    }\n",
              "    90% {\n",
              "      border-color: transparent;\n",
              "      border-bottom-color: var(--fill-color);\n",
              "    }\n",
              "  }\n",
              "</style>\n",
              "\n",
              "  <script>\n",
              "    async function quickchart(key) {\n",
              "      const quickchartButtonEl =\n",
              "        document.querySelector('#' + key + ' button');\n",
              "      quickchartButtonEl.disabled = true;  // To prevent multiple clicks.\n",
              "      quickchartButtonEl.classList.add('colab-df-spinner');\n",
              "      try {\n",
              "        const charts = await google.colab.kernel.invokeFunction(\n",
              "            'suggestCharts', [key], {});\n",
              "      } catch (error) {\n",
              "        console.error('Error during call to suggestCharts:', error);\n",
              "      }\n",
              "      quickchartButtonEl.classList.remove('colab-df-spinner');\n",
              "      quickchartButtonEl.classList.add('colab-df-quickchart-complete');\n",
              "    }\n",
              "    (() => {\n",
              "      let quickchartButtonEl =\n",
              "        document.querySelector('#df-845e9c4d-2d2a-405d-b9e9-eaa09a8dbf6a button');\n",
              "      quickchartButtonEl.style.display =\n",
              "        google.colab.kernel.accessAllowed ? 'block' : 'none';\n",
              "    })();\n",
              "  </script>\n",
              "</div>\n",
              "\n",
              "    </div>\n",
              "  </div>\n"
            ],
            "application/vnd.google.colaboratory.intrinsic+json": {
              "type": "dataframe",
              "variable_name": "phone_df"
            }
          },
          "metadata": {},
          "execution_count": 13
        }
      ]
    },
    {
      "cell_type": "markdown",
      "source": [
        "## Issues with the dataset\n",
        "---\n",
        "1.   **Dirty Data (Quality Issues)**\n",
        "---\n",
        "1. **Price** -> It has Rupee sign(₹) and ',' in the data `Validity`\n",
        "2. **model_name** -> Sometimes, the specs and years are included with the model name.`Validity`\n",
        "    - ***Data Example*** -  Samsung Galaxy A12 Exynos 850 (6GB RAM + 128GB), Asus Zenfone Max ZC550KL 2016 (3GB RAM+32GB), Apple iPhone 5C (32GB) (Green, Blue, Yellow, Pink and White)\n",
        "    - ***Row Numbers*** - 12359,12360,12361,12363\n",
        "3. **rating** -> It has extra text beside the data.`Validity`\n",
        "    - ***Data Example*** - --rating:3; , --rating:3.3;\n",
        "4. **voting_count** -> It has extra text (votes) after the number of votes and ',' between the number.`Validity`\n",
        "    - ***Data Example*** - 96 votes, 26,359 votes\n",
        "5. **general_sim_type** -> It has multiple types of data combined: 1. the number of SIM cards supported, 2. the SIM card type, and 3. the SIM card slot type.`Validity`\n",
        "    - ***Data Example*** - Single Sim, GSM , Dual Sim, GSM+GSM, Dual Sim, GSM+GSM (Hybrid Slot)\n",
        "6. **general_device_type** -> It has 5 categories in the data:- Smartphone, Feature Phone, iPod, Gaming Phone, Tablet. We Only want two of them, a Smartphone and a Feature Phone.`Validity`\n",
        "    - It has space after text.\n",
        "7. **display_type** -> It has supported colour count present in the data (eg. (16M Colors)) and the same type written with a different format making duplicate type `Consistency`\n",
        "    - ***Data Example*** - Color TFT Screen (65K colors Colors), Color IPS Screen, IPS LCD Screen, Color TFT Screen (256K Colors)\n",
        "8. **display_size** -> There are 2 types of data available: Size in pixels and size in Inches. Some rows contain individual data, and some contain multiple data combined. `Validity`\n",
        "    - \\u2009 (Thin space) is present in the data.\n",
        "    - ***Data Example*** - 320 x 480 pixels,4 inches, 3.2 inches, 240 x 400 pixels\n",
        "9. **display_aspect_ratio** -> Some rows have extra space and tabs at the data's start, between and end. `Validity`\n",
        "    - ***Data Example*** - \\t19.5:9, '20.4:9 ', 20.5 : 9\n",
        "    - ***Row Numbers*** - 2983, 12086, 4847, 10742, 14609, 7602\n",
        "10. **memory_ram** -> The data has different Units, MB and GB, and \\u2009 (Thin space) is present between value and unit. `Validity`\n",
        "    - ***Data Example***- 5 MB, 256 MB, 8 GB, 2 GB\n",
        "11. **memory_storage** -> The data has 4 different Units (KB, MB, GB, TB) and the presence of \\u2009 between value and unit.`Validity`\n",
        "    - Row number 10917 has NA GB and missing data in 3098 rows. `Accuracy`\n",
        "    - ***Data Example***- 256 GB,512 KB, 50 MB, 64 GB, 16 TB\n",
        "    - ***Row Numbers*** - 193, 1, 2, 2989\n",
        "12. **memory_card_slot** -> It has mainly two types of data combined: 1. memory-card supported or not, 2. memory-card storage up to and sometimes there are also details about the card slot type. `Validity`\n",
        "    * \\u2009 and Multiple Units present in data (MB, GB, TB)\n",
        "    - ***Data Example***- Yes, (Hybrid Slot), up to 1 TB, Yes, upto 8 GB, Yes, No, Yes, (Hybrid Slot), 858      Yes, upto 2 GB, 1 GB included,\n",
        "    - ***Row Numbers*** - 11625, 4802, 14411, 16258, 2336, 10522, 858\n",
        "13. **connectivity_3g** -> Some rows have information about download and upload speed, and some only have Yes or No. `Validity`\n",
        "    - ***Data Example***- Yes 21 Mbps Download 5.76 Mbps Upload, Yes 1 Mbps Download, Yes, No\n",
        "    - ***Row Numbers*** - 13935, 16133, 4810, 16003, 3801, 4012\n",
        "14. **connectivity_wifi** -> Most rows have just Yes or No, but few have information about wifi-hotspot. `Validity`\n",
        "    - ***Data Example***- Yes, No, Yes, with wifi-hotspot\n",
        "    - ***Row Numbers*** - 3544, 3585, 112, 9088\n",
        "15. **connectivity_bluetooth** -> It has data on Bluetooth availability and the version of Bluetooth with some extra information.`Validity`\n",
        "    - ***Data Example***- Yes, Yes, v2.1, Yes, v5.0, A2DP, LE, Yes, v5.4, AAC/AptX/AptX HD/AptX Adaptive/LDAC/LHDC 5.0\n",
        "    - ***Row Numbers*** - 7478, 718, 14717, 8207,10511\n",
        "16. **connectivity_usb** -> Most of the data contains the USB's availability and type, and a few also have its version.`Validity`\n",
        "    - ***Data Example***- Yes, No, Yes, microUSB v2.0, Yes, microUSB, Yes, USB-C v2.0, No, microUSB\n",
        "    - ***Row Numbers*** - 2989,8580, 4614, 13582, 1209,1306\n",
        "17. **extra_3.5mm_headphone_jack** -> Most of the data contains Yes or No, but some row has alternatives if there is no audio jack, and some have the sound quality supported, etc.`Validity`\n",
        "    - ***Data Example***- No, USB-C to 3.5mm connector available in-box, No, Support standard Type-C earphone, Unspecified, Yes, Hi-Res Audio, 3.5\n",
        "    - ***Row Numbers*** - 6443, 10537, 13325, 3914, 2085\n",
        "18. **camera_rear_camera** -> Most of the rows contain information about the type of lenses and autofocus, as well as the Megapixels of all the cameras.`Validity`\n",
        "    - \\u2009 is present in the data.\n",
        "    - ***Data Example***- 13 MP with autofocus, 48 MP + AI Portrait with autofocus, 50 MP f/1.8 (Main)\\n24 MP f/1.8 (Night Vision)\\n8 MP f/1.8 (Fusion)\\n(Thermal Imaging Camera)\n",
        "19. **camera_flash** -> It has two data types present: 1. Flash availability, and 2. The type of flash, and sometimes the only type of flash.`Validity`\n",
        "    - ***Data Example*** - Yes, Six LED Dual Tone Flash, Yes, LED, LED\n",
        "20. **camera_front_camera** -> It has the camera megapixels and type of camera, and it also includes information about the flash types.`Validity`\n",
        "    -  \\u2009 is present in the data.\n",
        "    - ***Data Example*** - Notch 5 MP, Under Display 16 MP 26mm, 1/2.8\", 1.22µm, under display f/2 (Wide Angle), 5 MP f/2.2 with Screen Flash\n",
        "21. **technical_cpu** -> Most of the data contains a number of the cores of the CPU and its cycle speed, but some don't have core numbers.`Validity`\n",
        "    -  cycle speed has three units, KHz, GHz and MHz\n",
        "    -  \\u2009 is present in the data.\n",
        "    - ***Data Example*** - 1.25 GHz, Quad Core Processor, Single Core Processor, 1 MHz Processor.\n",
        "22. **battery_size** -> This field contains information about battery size in mAh and battery material. Some rows don't have battery material.`Validity`\n",
        "    - The battery type is written differently, like Li-ion Battery, Li-ion, Lion, Li-Po Battery, or Li-Polymer battery.`Consistency`\n",
        "    - \\u2009 is present in the data.`Validity`\n",
        "    - ***Data Example*** - 4000 mAh, 5050 mAh, Li-Po Battery, 950 mAh, Li-ion Battery\n",
        "23. **design_dimensions** ->  Most of the data has dimensions in mm, but a few also have inches.`Consistency`\n",
        "    - \\u2009 is present in the data.`Validity`\n",
        "    - ***Data Example*** - 162.2 x 74.6 x 8.3 mm (6.39 x 2.94 x 0.33 in), 71.5 x 142 x 8.94 mm\n",
        "24. **connectivity_volte** -> It has two types of data: 1. volte-connectivity and type of connecctivity.`Validity`\n",
        "    - ***Data Example*** - Yes, Yes, Dual Stand-By, Dual Stand-By\n",
        "25. **technical_chipset** - It combines the manufacturer, series and model of the chipset.`Validity`\n",
        "    - Sometimes, only manufacturers and sometimes only models are available in the data.`Validity`\n",
        "    - ***Data Example*** - Qualcomm Snapdragon 660, Spreadtrum SC7731G, Spreadtrum, BCM23550\n",
        "26. **extra_water_resistance** -> It has ip_rating, and water resistance time combined with the data, and sometimes only ip_rating are in it.`Validity`\n",
        "    - \\u2009 is present in the data. `Validity`\n",
        "    - ***Data Example*** - Yes, 6 m upto 30 min| IP68, IP67, IP54\n",
        "27. **battery_wireless_charging** ->  It has a combination of data on wireless charging capability, supported power Watts, and sometimes the type of wireless charging.`Validity`\n",
        "    - ***Data Example*** - Yes, Works with Qi Chargers| Yes, 50W Wireless Flash Charge| Yes, 15W\n",
        "28. **battery_reverse_charging** - The capability of reverse charging and supported power Watts exist in the data.`Validity`\n",
        "    - ***Data Example*** - Yes, 9W Reverse Charging | Yes, 10W | Yes, Reverse wireless charging\n",
        "\n",
        "---\n",
        "2.   **Messy Data (Tidiness Issues)**\n",
        "---\n",
        "1. **model_name** -> It Can be split into two columns: brand and model\n",
        "2. **camera_rear_camera** -> It can be split into multiple columns containing the data for each lens and lens features.\n",
        "3. **technical_cpu** -> It can be split into two columns containing the CPU's number of cores and clock cycles.\n",
        "4. **battery_size** -> It can be split into columns containing data on battery size and material.\n",
        "5. **technical_chipset** -> It can be split into the manufacturer, series and model of the chipset.\n"
      ],
      "metadata": {
        "id": "1BBCKbnVNpqG"
      }
    },
    {
      "cell_type": "code",
      "source": [
        "df = phone_df.copy()\n",
        "df.drop(columns=['Unnamed: 0'],inplace=True)"
      ],
      "metadata": {
        "id": "PxT4YKRqo6j-"
      },
      "execution_count": 14,
      "outputs": []
    },
    {
      "cell_type": "code",
      "source": [
        "df.columns"
      ],
      "metadata": {
        "colab": {
          "base_uri": "https://localhost:8080/"
        },
        "id": "OzWNISJLwDAL",
        "outputId": "c5e6413a-274a-4eaa-d665-0eefd7ab0157"
      },
      "execution_count": 15,
      "outputs": [
        {
          "output_type": "execute_result",
          "data": {
            "text/plain": [
              "Index(['model_url', 'model_name', 'price', 'rating', 'voting_count',\n",
              "       'general_sim_type', 'general_device_type', 'display_type',\n",
              "       'display_size', 'display_aspect_ratio', 'memory_ram', 'memory_storage',\n",
              "       'memory_card_slot', 'connectivity_3g', 'connectivity_4g',\n",
              "       'connectivity_wifi', 'connectivity_bluetooth', 'connectivity_usb',\n",
              "       'extra_3.5mm_headphone_jack', 'camera_rear_camera', 'camera_flash',\n",
              "       'camera_front_camera', 'technical_cpu', 'battery_type', 'battery_size',\n",
              "       'design_dimensions', 'design_weight', 'display_ppi',\n",
              "       'connectivity_volte', 'technical_chipset', 'connectivity_5g',\n",
              "       'extra_water_resistance', 'battery_wireless_charging',\n",
              "       'battery_reverse_charging', 'battery_reverse_wireless_charging',\n",
              "       'display_foldable_display'],\n",
              "      dtype='object')"
            ]
          },
          "metadata": {},
          "execution_count": 15
        }
      ]
    },
    {
      "cell_type": "markdown",
      "source": [
        "## model_name"
      ],
      "metadata": {
        "id": "EEziQnl6oa2x"
      }
    },
    {
      "cell_type": "code",
      "source": [
        "# Issue - Sometimes, the specs and years are included with the model name\n",
        "\n",
        "df['model_name'].value_counts().sample(3)"
      ],
      "metadata": {
        "colab": {
          "base_uri": "https://localhost:8080/"
        },
        "id": "Q0nhgyjOyjEU",
        "outputId": "1cf75dae-5072-456f-c14c-057f0929d097"
      },
      "execution_count": 16,
      "outputs": [
        {
          "output_type": "execute_result",
          "data": {
            "text/plain": [
              "model_name\n",
              "Spice Boss Power M-5374    1\n",
              "Trio Junior 3              1\n",
              "Karbonn K9 Spy             1\n",
              "Name: count, dtype: int64"
            ]
          },
          "metadata": {},
          "execution_count": 16
        }
      ]
    },
    {
      "cell_type": "code",
      "source": [
        "def split_brand_model(model_name):\n",
        "    '''\n",
        "    Separate brand and model and returns after cleaning it.\n",
        "    '''\n",
        "    brand_model_split = model_name.split('(')[0].split(' ', 1)\n",
        "    brand = brand_model_split[0].capitalize()\n",
        "\n",
        "    model_with_year = brand_model_split[1].capitalize() if len(brand_model_split) > 1 else ''\n",
        "    # cleans the data if model name has year or any other data like - Asus Zenfone Max ZC550KL 2016 (3GB RAM+32GB)\n",
        "    model = re.sub(r'\\b\\d{4}\\b', '', model_with_year).strip()\n",
        "    return pd.Series([brand, model])"
      ],
      "metadata": {
        "id": "KXOPY0xhr738"
      },
      "execution_count": 17,
      "outputs": []
    },
    {
      "cell_type": "code",
      "source": [
        "\n",
        "brand_model = df['model_name'].apply(split_brand_model)\n",
        "brand = brand_model[0]\n",
        "model = brand_model[1]\n",
        "# Inserting the column after model_name column\n",
        "df.insert(2, 'brand', brand)\n",
        "df.insert(3, 'model', model)"
      ],
      "metadata": {
        "id": "xkgvIbgtMU6u"
      },
      "execution_count": 18,
      "outputs": []
    },
    {
      "cell_type": "markdown",
      "source": [
        "## Price"
      ],
      "metadata": {
        "id": "_zkaWJEIxzwi"
      }
    },
    {
      "cell_type": "code",
      "source": [
        "# Issue - It has Rupee sign(₹) and ',' in the data\n",
        "\n",
        "df['price'].sample(3)"
      ],
      "metadata": {
        "colab": {
          "base_uri": "https://localhost:8080/"
        },
        "id": "elvzbvIKy0YB",
        "outputId": "d7052a99-6918-4787-bc1c-6c45f41eb134"
      },
      "execution_count": 19,
      "outputs": [
        {
          "output_type": "execute_result",
          "data": {
            "text/plain": [
              "7152     ₹25,990\n",
              "3368      ₹7,999\n",
              "10965    ₹25,999\n",
              "Name: price, dtype: object"
            ]
          },
          "metadata": {},
          "execution_count": 19
        }
      ]
    },
    {
      "cell_type": "code",
      "source": [
        "\n",
        "price = df['price'].str.replace('₹','').str.replace(',','').astype('int')\n",
        "# getting the position of the price\n",
        "df.columns.get_loc('price')"
      ],
      "metadata": {
        "colab": {
          "base_uri": "https://localhost:8080/"
        },
        "id": "ZsFw_4N-vXux",
        "outputId": "6e6d12ce-d2b1-47a5-cba8-a9e51d1d8390"
      },
      "execution_count": 20,
      "outputs": [
        {
          "output_type": "execute_result",
          "data": {
            "text/plain": [
              "4"
            ]
          },
          "metadata": {},
          "execution_count": 20
        }
      ]
    },
    {
      "cell_type": "code",
      "source": [
        "# inserting after price column\n",
        "df.insert(3, 'price_INR', price)"
      ],
      "metadata": {
        "id": "xoU3UJc2yG7u"
      },
      "execution_count": 21,
      "outputs": []
    },
    {
      "cell_type": "code",
      "source": [
        "df['price_INR'].describe()"
      ],
      "metadata": {
        "colab": {
          "base_uri": "https://localhost:8080/"
        },
        "id": "QQA-WcKNy97C",
        "outputId": "effa2d6e-887a-4a38-c55e-44fa177fc3d2"
      },
      "execution_count": 22,
      "outputs": [
        {
          "output_type": "execute_result",
          "data": {
            "text/plain": [
              "count     17153.000000\n",
              "mean      11819.863989\n",
              "std       20584.361762\n",
              "min          99.000000\n",
              "25%        1299.000000\n",
              "50%        4495.000000\n",
              "75%       13999.000000\n",
              "max      489990.000000\n",
              "Name: price_INR, dtype: float64"
            ]
          },
          "metadata": {},
          "execution_count": 22
        }
      ]
    },
    {
      "cell_type": "markdown",
      "source": [
        "## Rating"
      ],
      "metadata": {
        "id": "OjpKJXWDymyu"
      }
    },
    {
      "cell_type": "code",
      "source": [
        "# Issue - It has extra text beside the data.\n",
        "\n",
        "df['rating'] = df['rating'].str.replace('--rating:','').str.replace(';','').astype(float)"
      ],
      "metadata": {
        "id": "Ij_CzO7yynKC"
      },
      "execution_count": 23,
      "outputs": []
    },
    {
      "cell_type": "markdown",
      "source": [
        "## voting_count"
      ],
      "metadata": {
        "id": "XchsSiaBzDQ3"
      }
    },
    {
      "cell_type": "code",
      "source": [
        "# Issue - It has extra text (votes) after the number of votes and ',' between the number\n",
        "\n",
        "df['voting_count'] = df['voting_count'].str.replace('votes','').str.replace(',','').str.strip().astype('int')"
      ],
      "metadata": {
        "id": "PlIrTf29zCn4"
      },
      "execution_count": 24,
      "outputs": []
    },
    {
      "cell_type": "markdown",
      "source": [
        "## general_sim_type"
      ],
      "metadata": {
        "id": "Y-MSraypzv46"
      }
    },
    {
      "cell_type": "code",
      "source": [
        "# Issue - It has multiple types of data combined: 1. the number of SIM cards supported, 2. the SIM card type, and 3. the SIM card slot type\n",
        "\n",
        "# Removing sim types as most of them are GSM and only 0.9% has CDMA supported.\n",
        "sim_type = df['general_sim_type'].str.extract(r'([a-zA-Z]+ Sim)')\n",
        "sim_type.value_counts()"
      ],
      "metadata": {
        "colab": {
          "base_uri": "https://localhost:8080/"
        },
        "id": "mRzlNG5FzkkT",
        "outputId": "8c5d517f-e118-40f1-91fe-5d938baedf23"
      },
      "execution_count": 25,
      "outputs": [
        {
          "output_type": "execute_result",
          "data": {
            "text/plain": [
              "Dual Sim      15716\n",
              "Single Sim     1356\n",
              "Triple Sim       50\n",
              "Quad Sim         13\n",
              "No Sim            1\n",
              "Name: count, dtype: int64"
            ]
          },
          "metadata": {},
          "execution_count": 25
        }
      ]
    },
    {
      "cell_type": "code",
      "source": [
        "df.columns.get_loc('general_sim_type')"
      ],
      "metadata": {
        "colab": {
          "base_uri": "https://localhost:8080/"
        },
        "id": "EMQSAFCv0N43",
        "outputId": "b009a5d5-4b0e-47cf-b160-dd072de7ac76"
      },
      "execution_count": 26,
      "outputs": [
        {
          "output_type": "execute_result",
          "data": {
            "text/plain": [
              "8"
            ]
          },
          "metadata": {},
          "execution_count": 26
        }
      ]
    },
    {
      "cell_type": "code",
      "source": [
        "sim_type = sim_type.astype('category')\n",
        "# Inserting column after general_sim_type\n",
        "df.insert(8, 'sim_type', sim_type)"
      ],
      "metadata": {
        "id": "ey2PenwmzyNT"
      },
      "execution_count": 27,
      "outputs": []
    },
    {
      "cell_type": "markdown",
      "source": [
        "## general_device_type"
      ],
      "metadata": {
        "id": "6PapLqjg0uJw"
      }
    },
    {
      "cell_type": "code",
      "source": [
        "# Issue - It has 5 categories in the data:- Smartphone, Feature Phone, iPod, Gaming Phone, Tablet. We Only want two of them, a Smartphone and a Feature Phone.\n",
        "\n",
        "df['general_device_type'].value_counts()"
      ],
      "metadata": {
        "colab": {
          "base_uri": "https://localhost:8080/"
        },
        "id": "Ichi9fEH1aUy",
        "outputId": "8fe42685-1956-4523-b707-165723491519"
      },
      "execution_count": 28,
      "outputs": [
        {
          "output_type": "execute_result",
          "data": {
            "text/plain": [
              "general_device_type\n",
              "Smartphone       9960\n",
              "Feature Phone    5817\n",
              "iPod                1\n",
              "Gaming Phone        1\n",
              "Tablet              1\n",
              "Name: count, dtype: int64"
            ]
          },
          "metadata": {},
          "execution_count": 28
        }
      ]
    },
    {
      "cell_type": "code",
      "source": [
        "# Replacing smartphone with Smart Phone\n",
        "df['general_device_type'] = df['general_device_type'].replace('Smartphone','Smart Phone')"
      ],
      "metadata": {
        "id": "1OrhW4P84VCm"
      },
      "execution_count": 29,
      "outputs": []
    },
    {
      "cell_type": "code",
      "source": [
        "# Filtering all rows that have either Smartphone or Feature Phone in general_device_type\n",
        "df = df[df['general_device_type'].isin(['Smart Phone','Feature Phone'])]\n",
        "df['general_device_type'].value_counts()"
      ],
      "metadata": {
        "colab": {
          "base_uri": "https://localhost:8080/"
        },
        "id": "fQVdylkD3W5H",
        "outputId": "f87ff30c-a3a4-457a-86e4-490cb9c73f18"
      },
      "execution_count": 30,
      "outputs": [
        {
          "output_type": "execute_result",
          "data": {
            "text/plain": [
              "general_device_type\n",
              "Smart Phone      9960\n",
              "Feature Phone    5817\n",
              "Name: count, dtype: int64"
            ]
          },
          "metadata": {},
          "execution_count": 30
        }
      ]
    },
    {
      "cell_type": "code",
      "source": [
        "general_device_type = df['general_device_type'].astype('category')\n",
        "# Using `df.columns.get_loc('general_device_type')+1` position next to general_device_type\n",
        "df.insert(df.columns.get_loc('general_device_type')+1, 'device_type', general_device_type)"
      ],
      "metadata": {
        "id": "rYXi9utA0nvv"
      },
      "execution_count": 31,
      "outputs": []
    },
    {
      "cell_type": "markdown",
      "source": [
        "## display_type"
      ],
      "metadata": {
        "id": "PWNpJ3nl5sZ3"
      }
    },
    {
      "cell_type": "code",
      "source": [
        "# Issue - It has supported colour count present in the data (eg. (16M Colors)) and the same type written with a different format making duplicate type\n",
        "\n",
        "df['display_type'].value_counts()"
      ],
      "metadata": {
        "colab": {
          "base_uri": "https://localhost:8080/"
        },
        "id": "7eqdtti-548s",
        "outputId": "a4d3870d-17ca-4469-e72f-2335dd7fabc1"
      },
      "execution_count": 32,
      "outputs": [
        {
          "output_type": "execute_result",
          "data": {
            "text/plain": [
              "display_type\n",
              "Color TFT Screen                         3020\n",
              "Color                                    1501\n",
              "Color IPS LCD Screen (16M Colors)        1435\n",
              "Color IPS Screen                          995\n",
              "Color IPS Screen (16M colors Colors)      968\n",
              "                                         ... \n",
              "Color TFT Liquid Crystal (16M Colors)       1\n",
              "Color OLED Screen (1.07M)                   1\n",
              "Color Pol-less Plus OLED (1B)               1\n",
              "Color Dynamic AMOLED 2X, (1B)               1\n",
              "TFT Screen (Black)                          1\n",
              "Name: count, Length: 272, dtype: int64"
            ]
          },
          "metadata": {},
          "execution_count": 32
        }
      ]
    },
    {
      "cell_type": "code",
      "source": [
        "def categorize_display_types(display_type):\n",
        "    '''\n",
        "    Categorizing common the display type out of given input.\n",
        "    '''\n",
        "    display_type = display_type.lower()\n",
        "\n",
        "    if 'ips' in display_type:\n",
        "        return 'IPS LCD'\n",
        "    elif 'tft' in display_type:\n",
        "        return 'TFT LCD'\n",
        "    elif 'amoled' in display_type:\n",
        "        return 'AMOLED'\n",
        "    elif 'oled' in display_type:\n",
        "        return 'OLED'\n",
        "    else:\n",
        "        return 'Other'"
      ],
      "metadata": {
        "id": "Oaq8luNn5nnK"
      },
      "execution_count": 33,
      "outputs": []
    },
    {
      "cell_type": "code",
      "source": [
        "# removing extra data from column\n",
        "df['display_type'] = df['display_type'].fillna('other').str.split('(').str.get(0)\n",
        "\n",
        "# Applying the categorize function\n",
        "display_type = df['display_type'].apply(categorize_display_types)\n",
        "\n",
        "# Changing column type to category\n",
        "df['display_type'] = display_type.astype('category')\n",
        "df['display_type'].value_counts()"
      ],
      "metadata": {
        "colab": {
          "base_uri": "https://localhost:8080/"
        },
        "id": "lSJROQgW57Ib",
        "outputId": "04847c44-5227-4a82-f219-92014ce6feff"
      },
      "execution_count": 34,
      "outputs": [
        {
          "output_type": "stream",
          "name": "stderr",
          "text": [
            "<ipython-input-34-e7856fd6373c>:2: SettingWithCopyWarning: \n",
            "A value is trying to be set on a copy of a slice from a DataFrame.\n",
            "Try using .loc[row_indexer,col_indexer] = value instead\n",
            "\n",
            "See the caveats in the documentation: https://pandas.pydata.org/pandas-docs/stable/user_guide/indexing.html#returning-a-view-versus-a-copy\n",
            "  df['display_type'] = df['display_type'].fillna('other').str.split('(').str.get(0)\n",
            "<ipython-input-34-e7856fd6373c>:8: SettingWithCopyWarning: \n",
            "A value is trying to be set on a copy of a slice from a DataFrame.\n",
            "Try using .loc[row_indexer,col_indexer] = value instead\n",
            "\n",
            "See the caveats in the documentation: https://pandas.pydata.org/pandas-docs/stable/user_guide/indexing.html#returning-a-view-versus-a-copy\n",
            "  df['display_type'] = display_type.astype('category')\n"
          ]
        },
        {
          "output_type": "execute_result",
          "data": {
            "text/plain": [
              "display_type\n",
              "IPS LCD    4544\n",
              "TFT LCD    4428\n",
              "Other      4218\n",
              "AMOLED     2057\n",
              "OLED        530\n",
              "Name: count, dtype: int64"
            ]
          },
          "metadata": {},
          "execution_count": 34
        }
      ]
    },
    {
      "cell_type": "markdown",
      "source": [
        "## display_size"
      ],
      "metadata": {
        "id": "_CsNquw57XBi"
      }
    },
    {
      "cell_type": "code",
      "source": [
        "# Issue - There are 2 types of data available: Size in pixels and size in Inches. Some rows contain individual data, and some contain multiple data combined.\n",
        "\n",
        "# Extracting data\n",
        "df['display_size'] = df['display_size'].str.replace('\\u2009',' ')\n",
        "display_pixel_count = df['display_size'].str.extract(r'([\\d]+\\s*x\\s*[\\d]+) pixels')\n",
        "display_size_inches = df['display_size'].str.extract(r'([\\d.]+) inches').astype('float')"
      ],
      "metadata": {
        "id": "TCKGr22-6iOW"
      },
      "execution_count": 35,
      "outputs": []
    },
    {
      "cell_type": "code",
      "source": [
        "# inserting columns\n",
        "df.insert(df.columns.get_loc('display_size')+1,'display_pixel_count',display_pixel_count)\n",
        "df.insert(df.columns.get_loc('display_size')+2,'display_size_inches',display_size_inches)"
      ],
      "metadata": {
        "id": "fJwwvLyO7o4m"
      },
      "execution_count": 36,
      "outputs": []
    },
    {
      "cell_type": "markdown",
      "source": [
        "## memory_ram"
      ],
      "metadata": {
        "id": "tv9KJwMu8Tnf"
      }
    },
    {
      "cell_type": "code",
      "source": [
        "# Issue - The data has different Units, MB and GB, and \\u2009 (Thin space) is present between value and unit.\n",
        "\n",
        "def convert_to_gb(memory_storage):\n",
        "    if memory_storage:\n",
        "        try:\n",
        "            memory_storage = memory_storage.lower().strip()\n",
        "            if 'mb' in memory_storage:\n",
        "                memory_mb = float(memory_storage.replace('mb', '').strip())\n",
        "                memory_gb = memory_mb / 1024\n",
        "                return memory_gb\n",
        "            elif 'gb' in memory_storage:\n",
        "                memory_gb = float(memory_storage.replace('gb', '').strip())\n",
        "                return memory_gb\n",
        "            elif 'tb' in memory_storage:\n",
        "                memory_tb = float(memory_storage.replace('tb', '').strip())\n",
        "                memory_gb = memory_tb * 1024\n",
        "                return memory_gb\n",
        "            else:\n",
        "                return 0\n",
        "        except Exception as e:\n",
        "            # print(memory_storage,'=>',e)\n",
        "            return 0"
      ],
      "metadata": {
        "id": "RRS5yvxO8OA4"
      },
      "execution_count": 37,
      "outputs": []
    },
    {
      "cell_type": "code",
      "source": [
        "# Converting all value in gb\n",
        "memory_ram_gb = df['memory_ram'].fillna('0').apply(convert_to_gb).astype('float')\n",
        "memory_ram_gb\n",
        "df.insert(df.columns.get_loc('memory_ram'),'memory_ram_gb',memory_ram_gb)"
      ],
      "metadata": {
        "id": "BpCcGPrOB4sR"
      },
      "execution_count": 38,
      "outputs": []
    },
    {
      "cell_type": "markdown",
      "source": [
        "## memory_storage"
      ],
      "metadata": {
        "id": "vulhkuBUDi_W"
      }
    },
    {
      "cell_type": "code",
      "source": [
        "# The data has 4 different Units (KB, MB, GB, TB) and the presence of \\u2009 between value and unit\n",
        "memory_storage_gb = df['memory_storage'].fillna('0').apply(convert_to_gb).astype('float')\n",
        "df.insert(df.columns.get_loc('memory_storage')+1,'memory_storage_gb',memory_storage_gb)"
      ],
      "metadata": {
        "id": "5Hv7QeTxC9Qb"
      },
      "execution_count": 39,
      "outputs": []
    },
    {
      "cell_type": "markdown",
      "source": [
        "## memory_card_slot"
      ],
      "metadata": {
        "id": "uhb428gCE8jq"
      }
    },
    {
      "cell_type": "code",
      "source": [
        "# It has mainly two types of data combined: 1. memory-card supported or not, 2. memory-card storage up to and sometimes there are also details about the card slot type.\n",
        "\n",
        "df['memory_card_slot'] = df['memory_card_slot'].str.replace('\\u2009',' ')\n",
        "has_memory_card_slot = df['memory_card_slot'].apply(lambda x: True if x=='Yes' else False).astype('category')\n",
        "# has_memory_card_slot\n",
        "memory_card_slot_capacity = df['memory_card_slot'].str.extract('(\\d+(\\.\\d+)?\\s*(GB|MB|TB))',expand=False)[0]\n",
        "memory_card_slot_capacity = memory_card_slot_capacity.apply(convert_to_gb)\n",
        "\n",
        "df.insert(df.columns.get_loc('memory_card_slot')+1,'has_memory_card_slot',has_memory_card_slot)\n",
        "df.insert(df.columns.get_loc('memory_card_slot')+2,'memory_card_slot_capacity',memory_card_slot_capacity)\n"
      ],
      "metadata": {
        "id": "ycAyE_U5E2vX"
      },
      "execution_count": 40,
      "outputs": []
    },
    {
      "cell_type": "code",
      "source": [
        "df.iloc[:2,13:]"
      ],
      "metadata": {
        "colab": {
          "base_uri": "https://localhost:8080/",
          "height": 0
        },
        "id": "GgGul2qnHBSf",
        "outputId": "bf5a0c5e-2a79-4dc8-e5a8-90e6186286d0"
      },
      "execution_count": 41,
      "outputs": [
        {
          "output_type": "execute_result",
          "data": {
            "text/plain": [
              "                   display_size display_pixel_count  display_size_inches  \\\n",
              "0              320 x 480 pixels           320 x 480                  NaN   \n",
              "2  4.5 inches, 480 x 854 pixels           480 x 854                  4.5   \n",
              "\n",
              "  display_aspect_ratio  memory_ram_gb memory_ram memory_storage  \\\n",
              "0                  3:2       0.120117     123 MB          56 MB   \n",
              "2                 16:9       1.000000       1 GB           8 GB   \n",
              "\n",
              "   memory_storage_gb  memory_card_slot has_memory_card_slot  ...  \\\n",
              "0           0.054688   Yes, upto 32 GB                False  ...   \n",
              "2           8.000000  Yes, upto 128 GB                False  ...   \n",
              "\n",
              "   design_weight display_ppi connectivity_volte            technical_chipset  \\\n",
              "0            NaN         NaN                NaN                          NaN   \n",
              "2          138 g   ~ 218 PPI                Yes  Qualcomm Snapdragon MSM8909   \n",
              "\n",
              "  connectivity_5g extra_water_resistance battery_wireless_charging  \\\n",
              "0             NaN                    NaN                       NaN   \n",
              "2             NaN                    NaN                       NaN   \n",
              "\n",
              "  battery_reverse_charging battery_reverse_wireless_charging  \\\n",
              "0                      NaN                               NaN   \n",
              "2                      NaN                               NaN   \n",
              "\n",
              "  display_foldable_display  \n",
              "0                      NaN  \n",
              "2                      NaN  \n",
              "\n",
              "[2 rows x 34 columns]"
            ],
            "text/html": [
              "\n",
              "  <div id=\"df-8d2063a9-f591-4ccf-b5c8-e00d7cf2455d\" class=\"colab-df-container\">\n",
              "    <div>\n",
              "<style scoped>\n",
              "    .dataframe tbody tr th:only-of-type {\n",
              "        vertical-align: middle;\n",
              "    }\n",
              "\n",
              "    .dataframe tbody tr th {\n",
              "        vertical-align: top;\n",
              "    }\n",
              "\n",
              "    .dataframe thead th {\n",
              "        text-align: right;\n",
              "    }\n",
              "</style>\n",
              "<table border=\"1\" class=\"dataframe\">\n",
              "  <thead>\n",
              "    <tr style=\"text-align: right;\">\n",
              "      <th></th>\n",
              "      <th>display_size</th>\n",
              "      <th>display_pixel_count</th>\n",
              "      <th>display_size_inches</th>\n",
              "      <th>display_aspect_ratio</th>\n",
              "      <th>memory_ram_gb</th>\n",
              "      <th>memory_ram</th>\n",
              "      <th>memory_storage</th>\n",
              "      <th>memory_storage_gb</th>\n",
              "      <th>memory_card_slot</th>\n",
              "      <th>has_memory_card_slot</th>\n",
              "      <th>...</th>\n",
              "      <th>design_weight</th>\n",
              "      <th>display_ppi</th>\n",
              "      <th>connectivity_volte</th>\n",
              "      <th>technical_chipset</th>\n",
              "      <th>connectivity_5g</th>\n",
              "      <th>extra_water_resistance</th>\n",
              "      <th>battery_wireless_charging</th>\n",
              "      <th>battery_reverse_charging</th>\n",
              "      <th>battery_reverse_wireless_charging</th>\n",
              "      <th>display_foldable_display</th>\n",
              "    </tr>\n",
              "  </thead>\n",
              "  <tbody>\n",
              "    <tr>\n",
              "      <th>0</th>\n",
              "      <td>320 x 480 pixels</td>\n",
              "      <td>320 x 480</td>\n",
              "      <td>NaN</td>\n",
              "      <td>3:2</td>\n",
              "      <td>0.120117</td>\n",
              "      <td>123 MB</td>\n",
              "      <td>56 MB</td>\n",
              "      <td>0.054688</td>\n",
              "      <td>Yes, upto 32 GB</td>\n",
              "      <td>False</td>\n",
              "      <td>...</td>\n",
              "      <td>NaN</td>\n",
              "      <td>NaN</td>\n",
              "      <td>NaN</td>\n",
              "      <td>NaN</td>\n",
              "      <td>NaN</td>\n",
              "      <td>NaN</td>\n",
              "      <td>NaN</td>\n",
              "      <td>NaN</td>\n",
              "      <td>NaN</td>\n",
              "      <td>NaN</td>\n",
              "    </tr>\n",
              "    <tr>\n",
              "      <th>2</th>\n",
              "      <td>4.5 inches, 480 x 854 pixels</td>\n",
              "      <td>480 x 854</td>\n",
              "      <td>4.5</td>\n",
              "      <td>16:9</td>\n",
              "      <td>1.000000</td>\n",
              "      <td>1 GB</td>\n",
              "      <td>8 GB</td>\n",
              "      <td>8.000000</td>\n",
              "      <td>Yes, upto 128 GB</td>\n",
              "      <td>False</td>\n",
              "      <td>...</td>\n",
              "      <td>138 g</td>\n",
              "      <td>~ 218 PPI</td>\n",
              "      <td>Yes</td>\n",
              "      <td>Qualcomm Snapdragon MSM8909</td>\n",
              "      <td>NaN</td>\n",
              "      <td>NaN</td>\n",
              "      <td>NaN</td>\n",
              "      <td>NaN</td>\n",
              "      <td>NaN</td>\n",
              "      <td>NaN</td>\n",
              "    </tr>\n",
              "  </tbody>\n",
              "</table>\n",
              "<p>2 rows × 34 columns</p>\n",
              "</div>\n",
              "    <div class=\"colab-df-buttons\">\n",
              "\n",
              "  <div class=\"colab-df-container\">\n",
              "    <button class=\"colab-df-convert\" onclick=\"convertToInteractive('df-8d2063a9-f591-4ccf-b5c8-e00d7cf2455d')\"\n",
              "            title=\"Convert this dataframe to an interactive table.\"\n",
              "            style=\"display:none;\">\n",
              "\n",
              "  <svg xmlns=\"http://www.w3.org/2000/svg\" height=\"24px\" viewBox=\"0 -960 960 960\">\n",
              "    <path d=\"M120-120v-720h720v720H120Zm60-500h600v-160H180v160Zm220 220h160v-160H400v160Zm0 220h160v-160H400v160ZM180-400h160v-160H180v160Zm440 0h160v-160H620v160ZM180-180h160v-160H180v160Zm440 0h160v-160H620v160Z\"/>\n",
              "  </svg>\n",
              "    </button>\n",
              "\n",
              "  <style>\n",
              "    .colab-df-container {\n",
              "      display:flex;\n",
              "      gap: 12px;\n",
              "    }\n",
              "\n",
              "    .colab-df-convert {\n",
              "      background-color: #E8F0FE;\n",
              "      border: none;\n",
              "      border-radius: 50%;\n",
              "      cursor: pointer;\n",
              "      display: none;\n",
              "      fill: #1967D2;\n",
              "      height: 32px;\n",
              "      padding: 0 0 0 0;\n",
              "      width: 32px;\n",
              "    }\n",
              "\n",
              "    .colab-df-convert:hover {\n",
              "      background-color: #E2EBFA;\n",
              "      box-shadow: 0px 1px 2px rgba(60, 64, 67, 0.3), 0px 1px 3px 1px rgba(60, 64, 67, 0.15);\n",
              "      fill: #174EA6;\n",
              "    }\n",
              "\n",
              "    .colab-df-buttons div {\n",
              "      margin-bottom: 4px;\n",
              "    }\n",
              "\n",
              "    [theme=dark] .colab-df-convert {\n",
              "      background-color: #3B4455;\n",
              "      fill: #D2E3FC;\n",
              "    }\n",
              "\n",
              "    [theme=dark] .colab-df-convert:hover {\n",
              "      background-color: #434B5C;\n",
              "      box-shadow: 0px 1px 3px 1px rgba(0, 0, 0, 0.15);\n",
              "      filter: drop-shadow(0px 1px 2px rgba(0, 0, 0, 0.3));\n",
              "      fill: #FFFFFF;\n",
              "    }\n",
              "  </style>\n",
              "\n",
              "    <script>\n",
              "      const buttonEl =\n",
              "        document.querySelector('#df-8d2063a9-f591-4ccf-b5c8-e00d7cf2455d button.colab-df-convert');\n",
              "      buttonEl.style.display =\n",
              "        google.colab.kernel.accessAllowed ? 'block' : 'none';\n",
              "\n",
              "      async function convertToInteractive(key) {\n",
              "        const element = document.querySelector('#df-8d2063a9-f591-4ccf-b5c8-e00d7cf2455d');\n",
              "        const dataTable =\n",
              "          await google.colab.kernel.invokeFunction('convertToInteractive',\n",
              "                                                    [key], {});\n",
              "        if (!dataTable) return;\n",
              "\n",
              "        const docLinkHtml = 'Like what you see? Visit the ' +\n",
              "          '<a target=\"_blank\" href=https://colab.research.google.com/notebooks/data_table.ipynb>data table notebook</a>'\n",
              "          + ' to learn more about interactive tables.';\n",
              "        element.innerHTML = '';\n",
              "        dataTable['output_type'] = 'display_data';\n",
              "        await google.colab.output.renderOutput(dataTable, element);\n",
              "        const docLink = document.createElement('div');\n",
              "        docLink.innerHTML = docLinkHtml;\n",
              "        element.appendChild(docLink);\n",
              "      }\n",
              "    </script>\n",
              "  </div>\n",
              "\n",
              "\n",
              "<div id=\"df-77cf2a93-737a-48e9-99b5-5217c7a6c320\">\n",
              "  <button class=\"colab-df-quickchart\" onclick=\"quickchart('df-77cf2a93-737a-48e9-99b5-5217c7a6c320')\"\n",
              "            title=\"Suggest charts\"\n",
              "            style=\"display:none;\">\n",
              "\n",
              "<svg xmlns=\"http://www.w3.org/2000/svg\" height=\"24px\"viewBox=\"0 0 24 24\"\n",
              "     width=\"24px\">\n",
              "    <g>\n",
              "        <path d=\"M19 3H5c-1.1 0-2 .9-2 2v14c0 1.1.9 2 2 2h14c1.1 0 2-.9 2-2V5c0-1.1-.9-2-2-2zM9 17H7v-7h2v7zm4 0h-2V7h2v10zm4 0h-2v-4h2v4z\"/>\n",
              "    </g>\n",
              "</svg>\n",
              "  </button>\n",
              "\n",
              "<style>\n",
              "  .colab-df-quickchart {\n",
              "      --bg-color: #E8F0FE;\n",
              "      --fill-color: #1967D2;\n",
              "      --hover-bg-color: #E2EBFA;\n",
              "      --hover-fill-color: #174EA6;\n",
              "      --disabled-fill-color: #AAA;\n",
              "      --disabled-bg-color: #DDD;\n",
              "  }\n",
              "\n",
              "  [theme=dark] .colab-df-quickchart {\n",
              "      --bg-color: #3B4455;\n",
              "      --fill-color: #D2E3FC;\n",
              "      --hover-bg-color: #434B5C;\n",
              "      --hover-fill-color: #FFFFFF;\n",
              "      --disabled-bg-color: #3B4455;\n",
              "      --disabled-fill-color: #666;\n",
              "  }\n",
              "\n",
              "  .colab-df-quickchart {\n",
              "    background-color: var(--bg-color);\n",
              "    border: none;\n",
              "    border-radius: 50%;\n",
              "    cursor: pointer;\n",
              "    display: none;\n",
              "    fill: var(--fill-color);\n",
              "    height: 32px;\n",
              "    padding: 0;\n",
              "    width: 32px;\n",
              "  }\n",
              "\n",
              "  .colab-df-quickchart:hover {\n",
              "    background-color: var(--hover-bg-color);\n",
              "    box-shadow: 0 1px 2px rgba(60, 64, 67, 0.3), 0 1px 3px 1px rgba(60, 64, 67, 0.15);\n",
              "    fill: var(--button-hover-fill-color);\n",
              "  }\n",
              "\n",
              "  .colab-df-quickchart-complete:disabled,\n",
              "  .colab-df-quickchart-complete:disabled:hover {\n",
              "    background-color: var(--disabled-bg-color);\n",
              "    fill: var(--disabled-fill-color);\n",
              "    box-shadow: none;\n",
              "  }\n",
              "\n",
              "  .colab-df-spinner {\n",
              "    border: 2px solid var(--fill-color);\n",
              "    border-color: transparent;\n",
              "    border-bottom-color: var(--fill-color);\n",
              "    animation:\n",
              "      spin 1s steps(1) infinite;\n",
              "  }\n",
              "\n",
              "  @keyframes spin {\n",
              "    0% {\n",
              "      border-color: transparent;\n",
              "      border-bottom-color: var(--fill-color);\n",
              "      border-left-color: var(--fill-color);\n",
              "    }\n",
              "    20% {\n",
              "      border-color: transparent;\n",
              "      border-left-color: var(--fill-color);\n",
              "      border-top-color: var(--fill-color);\n",
              "    }\n",
              "    30% {\n",
              "      border-color: transparent;\n",
              "      border-left-color: var(--fill-color);\n",
              "      border-top-color: var(--fill-color);\n",
              "      border-right-color: var(--fill-color);\n",
              "    }\n",
              "    40% {\n",
              "      border-color: transparent;\n",
              "      border-right-color: var(--fill-color);\n",
              "      border-top-color: var(--fill-color);\n",
              "    }\n",
              "    60% {\n",
              "      border-color: transparent;\n",
              "      border-right-color: var(--fill-color);\n",
              "    }\n",
              "    80% {\n",
              "      border-color: transparent;\n",
              "      border-right-color: var(--fill-color);\n",
              "      border-bottom-color: var(--fill-color);\n",
              "    }\n",
              "    90% {\n",
              "      border-color: transparent;\n",
              "      border-bottom-color: var(--fill-color);\n",
              "    }\n",
              "  }\n",
              "</style>\n",
              "\n",
              "  <script>\n",
              "    async function quickchart(key) {\n",
              "      const quickchartButtonEl =\n",
              "        document.querySelector('#' + key + ' button');\n",
              "      quickchartButtonEl.disabled = true;  // To prevent multiple clicks.\n",
              "      quickchartButtonEl.classList.add('colab-df-spinner');\n",
              "      try {\n",
              "        const charts = await google.colab.kernel.invokeFunction(\n",
              "            'suggestCharts', [key], {});\n",
              "      } catch (error) {\n",
              "        console.error('Error during call to suggestCharts:', error);\n",
              "      }\n",
              "      quickchartButtonEl.classList.remove('colab-df-spinner');\n",
              "      quickchartButtonEl.classList.add('colab-df-quickchart-complete');\n",
              "    }\n",
              "    (() => {\n",
              "      let quickchartButtonEl =\n",
              "        document.querySelector('#df-77cf2a93-737a-48e9-99b5-5217c7a6c320 button');\n",
              "      quickchartButtonEl.style.display =\n",
              "        google.colab.kernel.accessAllowed ? 'block' : 'none';\n",
              "    })();\n",
              "  </script>\n",
              "</div>\n",
              "\n",
              "    </div>\n",
              "  </div>\n"
            ],
            "application/vnd.google.colaboratory.intrinsic+json": {
              "type": "dataframe"
            }
          },
          "metadata": {},
          "execution_count": 41
        }
      ]
    },
    {
      "cell_type": "markdown",
      "source": [
        "## connectivity_edge,3g,4g,wifi"
      ],
      "metadata": {
        "id": "xihvfzSrGAHz"
      }
    },
    {
      "cell_type": "code",
      "source": [
        "# Issue -3g - Some rows have information about download and upload speed, and some only have Yes or No\n",
        "# Issue- Wifi- Most rows have just Yes or No, but few have information about wifi-hotspot\n",
        "has_3g = df['connectivity_3g'].fillna('').apply(lambda x: True if 'Yes' in x else False)\n",
        "has_4g = df['connectivity_4g'].fillna('').apply(lambda x: True if 'Yes' in x else False)\n",
        "has_wifi = df['connectivity_wifi'].fillna('').apply(lambda x: True if 'Yes' in x else False)\n",
        "\n",
        "df.insert(df.columns.get_loc('connectivity_3g')+1,'has_3g',has_3g)\n",
        "df.insert(df.columns.get_loc('connectivity_4g')+1,'has_4g',has_4g)\n",
        "df.insert(df.columns.get_loc('connectivity_wifi')+1,'has_wifi',has_wifi)"
      ],
      "metadata": {
        "id": "1BlA20NpF8OY"
      },
      "execution_count": 42,
      "outputs": []
    },
    {
      "cell_type": "markdown",
      "source": [
        "## connectivity_bluetooth"
      ],
      "metadata": {
        "id": "HXaU6CyTNzLV"
      }
    },
    {
      "cell_type": "code",
      "source": [
        "# Issue - ost of the data contains the USB's availability and type, and a few also have its version\n",
        "df['connectivity_bluetooth'].value_counts()"
      ],
      "metadata": {
        "colab": {
          "base_uri": "https://localhost:8080/"
        },
        "id": "lh4pkvcNQQ_y",
        "outputId": "93b8c751-561d-4e6a-ae92-6e62c4464e9f"
      },
      "execution_count": 43,
      "outputs": [
        {
          "output_type": "execute_result",
          "data": {
            "text/plain": [
              "connectivity_bluetooth\n",
              "Yes                                                        4667\n",
              "Yes, v4.0                                                  1628\n",
              "Yes, v5.0                                                  1050\n",
              "Yes, v2.0                                                   707\n",
              "Yes, v4.2                                                   684\n",
              "                                                           ... \n",
              "Yes, v40.0                                                    1\n",
              "Yes, v5.4, AAC/AptX/AptX HD/AptX Adaptive/LDAC/LHDC 5.0       1\n",
              "Yes, v4.2, A2DP, LE, EDR, aptX                                1\n",
              "Yes, v5.4, SBC, AAC, aptX, aptX HD, and LDAC                  1\n",
              "Yes, v4.2, A2DP, aptX, LE                                     1\n",
              "Name: count, Length: 164, dtype: int64"
            ]
          },
          "metadata": {},
          "execution_count": 43
        }
      ]
    },
    {
      "cell_type": "code",
      "source": [
        "blouetooth_version = df['connectivity_bluetooth'].str.extract(r'(?:v|, )([\\d.]+)')[0].astype('float')\n",
        "has_bluetooth = df['connectivity_bluetooth'].str.split(',').str.get(0).fillna('').apply(lambda x: True if 'Yes' in x else False).astype('category')\n",
        "blouetooth_version.value_counts()\n",
        "df.insert(df.columns.get_loc('connectivity_bluetooth')+1,'has_bluetooth',has_bluetooth)\n",
        "df.insert(df.columns.get_loc('connectivity_bluetooth')+2,'bluetooth_version',blouetooth_version)"
      ],
      "metadata": {
        "id": "wjAgcw0_ILHu"
      },
      "execution_count": 44,
      "outputs": []
    },
    {
      "cell_type": "markdown",
      "source": [
        "## connectivity_usb"
      ],
      "metadata": {
        "id": "CcZuR_35P3Ys"
      }
    },
    {
      "cell_type": "code",
      "source": [
        "# Issue - Most of the data contains Yes or No, but some row has alternatives if there is no audio jack, and some have the sound quality supported, etc\n",
        "df['connectivity_usb'].value_counts()"
      ],
      "metadata": {
        "colab": {
          "base_uri": "https://localhost:8080/"
        },
        "id": "bWW2flo4SI3d",
        "outputId": "e6509146-34fc-44d8-ebf7-abd03d9fabc0"
      },
      "execution_count": 45,
      "outputs": [
        {
          "output_type": "execute_result",
          "data": {
            "text/plain": [
              "connectivity_usb\n",
              "Yes, microUSB v2.0                                                              3454\n",
              "Yes                                                                             3152\n",
              "Yes, USB-C v2.0                                                                 2470\n",
              "Yes, microUSB                                                                   1647\n",
              "Yes, USB-C                                                                       967\n",
              "Yes, USB-C v3.1                                                                  347\n",
              "No                                                                               228\n",
              "Yes v2.0                                                                         174\n",
              "Yes, USB-C v3.2                                                                  132\n",
              "Yes, miniUSB                                                                     131\n",
              "Yes, microUSB-MHL v2.0                                                            81\n",
              "Yes, Proprietary v2.0                                                             67\n",
              "Yes, USB-C v3.0                                                                   59\n",
              "Yes, USB-C v1.0                                                                   44\n",
              "Yes, Lightning Cable                                                              33\n",
              "Yes, miniUSB v2.0                                                                 29\n",
              "Yes, Lightning Port                                                               22\n",
              "Yes, Type-C                                                                       20\n",
              "Yes, microUSB v3.0                                                                14\n",
              "Yes, microUSB v1.1                                                                14\n",
              "Yes v5.0                                                                          13\n",
              "Yes, microUSB-SlimPort v2.0                                                       11\n",
              "Yes, microUSB-MHL v3.0                                                             8\n",
              "Yes v3.1                                                                           8\n",
              "Yes, Proprietary                                                                   7\n",
              "Yes, microUSB v5.0                                                                 7\n",
              "Yes, Type-C v2.0                                                                   7\n",
              "Yes, Type-C v1.0                                                                   7\n",
              "No, microUSB                                                                       7\n",
              "microUSB                                                                           4\n",
              "Yes v3.0                                                                           3\n",
              "Yes, USB-C v4.0                                                                    3\n",
              "Yes v1.1                                                                           3\n",
              "Yes, microUSB v1.0                                                                 3\n",
              "Yes, Lightning                                                                     3\n",
              "Yes, USB-C USB-C 3.2 Gen 2                                                         2\n",
              "Yes v3.2                                                                           2\n",
              "Yes, microUSB v2.1                                                                 2\n",
              "Yes, Type C v2.0                                                                   2\n",
              "Yes, USB-C v2.1                                                                    2\n",
              "Yes, microUSB-SlimPort                                                             2\n",
              "Yes, Type-C v3.1                                                                   2\n",
              "microUSB v2.0                                                                      2\n",
              "Yes v1.0                                                                           1\n",
              "Yes 2.0, Type-C 1.0 reversible connector                                           1\n",
              "Yes, microUSB v3.1                                                                 1\n",
              "Yes, microUSB v2.0, No, Yes, Yes                                                   1\n",
              "Yes v10.0                                                                          1\n",
              "Yes, miniUSB v1.1                                                                  1\n",
              "Yes, miniUSB v10.0                                                                 1\n",
              "Yes, microUSB Mass storage device, USB charging, (Doesn't support micro-USB)       1\n",
              "Yes, USB-C v1.4                                                                    1\n",
              "Yes, microUSB-MHL                                                                  1\n",
              "Yes, Type-C 1.0 reversible connector v2.0                                          1\n",
              "No, miniUSB                                                                        1\n",
              "Yes, microUSB v20.0                                                                1\n",
              "Name: count, dtype: int64"
            ]
          },
          "metadata": {},
          "execution_count": 45
        }
      ]
    },
    {
      "cell_type": "code",
      "source": [
        "usb_version = df['connectivity_usb'].str.extract(r'(?<![A-Za-z])v?(\\d+(\\.\\d+)?\\'?)')[0].astype('float')\n",
        "has_usb = df['connectivity_usb'].str.split(',').str.get(0).fillna('').apply(lambda x: True if 'Yes' in x else False).astype('category')\n",
        "df.insert(df.columns.get_loc('connectivity_usb')+1,'has_usb',has_usb)\n",
        "df.insert(df.columns.get_loc('connectivity_usb')+2,'usb_version',usb_version)"
      ],
      "metadata": {
        "id": "tVHovNFcP1x4"
      },
      "execution_count": 46,
      "outputs": []
    },
    {
      "cell_type": "markdown",
      "source": [
        "## extra_3.5mm_headphone_jack"
      ],
      "metadata": {
        "id": "3AXl9et6SE_j"
      }
    },
    {
      "cell_type": "code",
      "source": [
        "# Issue - Most of the data contains Yes or No, but some row has alternatives if there is no audio jack, and some have the sound quality supported, etc\n",
        "headphone_jack = df['extra_3.5mm_headphone_jack'].str.split(',').str.get(0).fillna('').apply(lambda x: True if x=='Yes' else False)\n",
        "df.insert(df.columns.get_loc('connectivity_usb')+1,'has_3.5mm_audiojack',headphone_jack)"
      ],
      "metadata": {
        "id": "rtxiK4x0SFtC"
      },
      "execution_count": 47,
      "outputs": []
    },
    {
      "cell_type": "markdown",
      "source": [
        "## camera_rear_camera"
      ],
      "metadata": {
        "id": "IaPcusLfT1gx"
      }
    },
    {
      "cell_type": "code",
      "source": [
        "# Issue - Most of the rows contain information about the type of lenses and autofocus, as well as the Megapixels of all the cameras\n",
        "\n",
        "df['camera_rear_camera'] = df['camera_rear_camera'].str.replace('\\u2009',' ')"
      ],
      "metadata": {
        "id": "34zN8y-aTptf"
      },
      "execution_count": 48,
      "outputs": []
    },
    {
      "cell_type": "code",
      "source": [
        "megapixels = df['camera_rear_camera'].str.extractall(r'([\\d+.]+) MP').unstack().droplevel(0,axis=1)\n",
        "megapixels.columns = [f'camera_{i+1}_mp' for i in megapixels.columns]\n",
        "\n",
        "for i,col in enumerate(megapixels.columns,df.columns.get_loc('camera_rear_camera')+1):\n",
        "    df.insert(i,col,megapixels[col])"
      ],
      "metadata": {
        "id": "Mzydp23CT9O4"
      },
      "execution_count": 49,
      "outputs": []
    },
    {
      "cell_type": "code",
      "source": [
        "def check_lens_types(camera_info):\n",
        "    lens_types = ['Wide Angle', 'Ultra Wide', 'Telephoto', 'Depth Sensor', 'Night Vision']\n",
        "    lens_type_info = {}\n",
        "\n",
        "    for lens_type in lens_types:\n",
        "        column_name = f'has_rear_camera_{lens_type.lower().replace(\" \", \"\")}'\n",
        "        lens_type_info[column_name] = lens_type.lower() in camera_info.lower()\n",
        "\n",
        "    return lens_type_info"
      ],
      "metadata": {
        "id": "ZRX2bqtSVaFd"
      },
      "execution_count": 50,
      "outputs": []
    },
    {
      "cell_type": "code",
      "source": [
        "lens_type_df = df['camera_rear_camera'].fillna('').apply(check_lens_types)\n",
        "lens_type_df = pd.json_normalize(lens_type_df)\n",
        "lens_type_df.head(2)"
      ],
      "metadata": {
        "colab": {
          "base_uri": "https://localhost:8080/",
          "height": 0
        },
        "id": "EDVqitWMVnam",
        "outputId": "d038267d-249c-4805-8475-051749bdeadf"
      },
      "execution_count": 51,
      "outputs": [
        {
          "output_type": "execute_result",
          "data": {
            "text/plain": [
              "   has_rear_camera_wideangle  has_rear_camera_ultrawide  \\\n",
              "0                      False                      False   \n",
              "1                      False                      False   \n",
              "\n",
              "   has_rear_camera_telephoto  has_rear_camera_depthsensor  \\\n",
              "0                      False                        False   \n",
              "1                      False                        False   \n",
              "\n",
              "   has_rear_camera_nightvision  \n",
              "0                        False  \n",
              "1                        False  "
            ],
            "text/html": [
              "\n",
              "  <div id=\"df-2b551b13-f8c1-4165-8b34-50e539574d7b\" class=\"colab-df-container\">\n",
              "    <div>\n",
              "<style scoped>\n",
              "    .dataframe tbody tr th:only-of-type {\n",
              "        vertical-align: middle;\n",
              "    }\n",
              "\n",
              "    .dataframe tbody tr th {\n",
              "        vertical-align: top;\n",
              "    }\n",
              "\n",
              "    .dataframe thead th {\n",
              "        text-align: right;\n",
              "    }\n",
              "</style>\n",
              "<table border=\"1\" class=\"dataframe\">\n",
              "  <thead>\n",
              "    <tr style=\"text-align: right;\">\n",
              "      <th></th>\n",
              "      <th>has_rear_camera_wideangle</th>\n",
              "      <th>has_rear_camera_ultrawide</th>\n",
              "      <th>has_rear_camera_telephoto</th>\n",
              "      <th>has_rear_camera_depthsensor</th>\n",
              "      <th>has_rear_camera_nightvision</th>\n",
              "    </tr>\n",
              "  </thead>\n",
              "  <tbody>\n",
              "    <tr>\n",
              "      <th>0</th>\n",
              "      <td>False</td>\n",
              "      <td>False</td>\n",
              "      <td>False</td>\n",
              "      <td>False</td>\n",
              "      <td>False</td>\n",
              "    </tr>\n",
              "    <tr>\n",
              "      <th>1</th>\n",
              "      <td>False</td>\n",
              "      <td>False</td>\n",
              "      <td>False</td>\n",
              "      <td>False</td>\n",
              "      <td>False</td>\n",
              "    </tr>\n",
              "  </tbody>\n",
              "</table>\n",
              "</div>\n",
              "    <div class=\"colab-df-buttons\">\n",
              "\n",
              "  <div class=\"colab-df-container\">\n",
              "    <button class=\"colab-df-convert\" onclick=\"convertToInteractive('df-2b551b13-f8c1-4165-8b34-50e539574d7b')\"\n",
              "            title=\"Convert this dataframe to an interactive table.\"\n",
              "            style=\"display:none;\">\n",
              "\n",
              "  <svg xmlns=\"http://www.w3.org/2000/svg\" height=\"24px\" viewBox=\"0 -960 960 960\">\n",
              "    <path d=\"M120-120v-720h720v720H120Zm60-500h600v-160H180v160Zm220 220h160v-160H400v160Zm0 220h160v-160H400v160ZM180-400h160v-160H180v160Zm440 0h160v-160H620v160ZM180-180h160v-160H180v160Zm440 0h160v-160H620v160Z\"/>\n",
              "  </svg>\n",
              "    </button>\n",
              "\n",
              "  <style>\n",
              "    .colab-df-container {\n",
              "      display:flex;\n",
              "      gap: 12px;\n",
              "    }\n",
              "\n",
              "    .colab-df-convert {\n",
              "      background-color: #E8F0FE;\n",
              "      border: none;\n",
              "      border-radius: 50%;\n",
              "      cursor: pointer;\n",
              "      display: none;\n",
              "      fill: #1967D2;\n",
              "      height: 32px;\n",
              "      padding: 0 0 0 0;\n",
              "      width: 32px;\n",
              "    }\n",
              "\n",
              "    .colab-df-convert:hover {\n",
              "      background-color: #E2EBFA;\n",
              "      box-shadow: 0px 1px 2px rgba(60, 64, 67, 0.3), 0px 1px 3px 1px rgba(60, 64, 67, 0.15);\n",
              "      fill: #174EA6;\n",
              "    }\n",
              "\n",
              "    .colab-df-buttons div {\n",
              "      margin-bottom: 4px;\n",
              "    }\n",
              "\n",
              "    [theme=dark] .colab-df-convert {\n",
              "      background-color: #3B4455;\n",
              "      fill: #D2E3FC;\n",
              "    }\n",
              "\n",
              "    [theme=dark] .colab-df-convert:hover {\n",
              "      background-color: #434B5C;\n",
              "      box-shadow: 0px 1px 3px 1px rgba(0, 0, 0, 0.15);\n",
              "      filter: drop-shadow(0px 1px 2px rgba(0, 0, 0, 0.3));\n",
              "      fill: #FFFFFF;\n",
              "    }\n",
              "  </style>\n",
              "\n",
              "    <script>\n",
              "      const buttonEl =\n",
              "        document.querySelector('#df-2b551b13-f8c1-4165-8b34-50e539574d7b button.colab-df-convert');\n",
              "      buttonEl.style.display =\n",
              "        google.colab.kernel.accessAllowed ? 'block' : 'none';\n",
              "\n",
              "      async function convertToInteractive(key) {\n",
              "        const element = document.querySelector('#df-2b551b13-f8c1-4165-8b34-50e539574d7b');\n",
              "        const dataTable =\n",
              "          await google.colab.kernel.invokeFunction('convertToInteractive',\n",
              "                                                    [key], {});\n",
              "        if (!dataTable) return;\n",
              "\n",
              "        const docLinkHtml = 'Like what you see? Visit the ' +\n",
              "          '<a target=\"_blank\" href=https://colab.research.google.com/notebooks/data_table.ipynb>data table notebook</a>'\n",
              "          + ' to learn more about interactive tables.';\n",
              "        element.innerHTML = '';\n",
              "        dataTable['output_type'] = 'display_data';\n",
              "        await google.colab.output.renderOutput(dataTable, element);\n",
              "        const docLink = document.createElement('div');\n",
              "        docLink.innerHTML = docLinkHtml;\n",
              "        element.appendChild(docLink);\n",
              "      }\n",
              "    </script>\n",
              "  </div>\n",
              "\n",
              "\n",
              "<div id=\"df-24801446-afd5-4829-b991-58742b38f1c8\">\n",
              "  <button class=\"colab-df-quickchart\" onclick=\"quickchart('df-24801446-afd5-4829-b991-58742b38f1c8')\"\n",
              "            title=\"Suggest charts\"\n",
              "            style=\"display:none;\">\n",
              "\n",
              "<svg xmlns=\"http://www.w3.org/2000/svg\" height=\"24px\"viewBox=\"0 0 24 24\"\n",
              "     width=\"24px\">\n",
              "    <g>\n",
              "        <path d=\"M19 3H5c-1.1 0-2 .9-2 2v14c0 1.1.9 2 2 2h14c1.1 0 2-.9 2-2V5c0-1.1-.9-2-2-2zM9 17H7v-7h2v7zm4 0h-2V7h2v10zm4 0h-2v-4h2v4z\"/>\n",
              "    </g>\n",
              "</svg>\n",
              "  </button>\n",
              "\n",
              "<style>\n",
              "  .colab-df-quickchart {\n",
              "      --bg-color: #E8F0FE;\n",
              "      --fill-color: #1967D2;\n",
              "      --hover-bg-color: #E2EBFA;\n",
              "      --hover-fill-color: #174EA6;\n",
              "      --disabled-fill-color: #AAA;\n",
              "      --disabled-bg-color: #DDD;\n",
              "  }\n",
              "\n",
              "  [theme=dark] .colab-df-quickchart {\n",
              "      --bg-color: #3B4455;\n",
              "      --fill-color: #D2E3FC;\n",
              "      --hover-bg-color: #434B5C;\n",
              "      --hover-fill-color: #FFFFFF;\n",
              "      --disabled-bg-color: #3B4455;\n",
              "      --disabled-fill-color: #666;\n",
              "  }\n",
              "\n",
              "  .colab-df-quickchart {\n",
              "    background-color: var(--bg-color);\n",
              "    border: none;\n",
              "    border-radius: 50%;\n",
              "    cursor: pointer;\n",
              "    display: none;\n",
              "    fill: var(--fill-color);\n",
              "    height: 32px;\n",
              "    padding: 0;\n",
              "    width: 32px;\n",
              "  }\n",
              "\n",
              "  .colab-df-quickchart:hover {\n",
              "    background-color: var(--hover-bg-color);\n",
              "    box-shadow: 0 1px 2px rgba(60, 64, 67, 0.3), 0 1px 3px 1px rgba(60, 64, 67, 0.15);\n",
              "    fill: var(--button-hover-fill-color);\n",
              "  }\n",
              "\n",
              "  .colab-df-quickchart-complete:disabled,\n",
              "  .colab-df-quickchart-complete:disabled:hover {\n",
              "    background-color: var(--disabled-bg-color);\n",
              "    fill: var(--disabled-fill-color);\n",
              "    box-shadow: none;\n",
              "  }\n",
              "\n",
              "  .colab-df-spinner {\n",
              "    border: 2px solid var(--fill-color);\n",
              "    border-color: transparent;\n",
              "    border-bottom-color: var(--fill-color);\n",
              "    animation:\n",
              "      spin 1s steps(1) infinite;\n",
              "  }\n",
              "\n",
              "  @keyframes spin {\n",
              "    0% {\n",
              "      border-color: transparent;\n",
              "      border-bottom-color: var(--fill-color);\n",
              "      border-left-color: var(--fill-color);\n",
              "    }\n",
              "    20% {\n",
              "      border-color: transparent;\n",
              "      border-left-color: var(--fill-color);\n",
              "      border-top-color: var(--fill-color);\n",
              "    }\n",
              "    30% {\n",
              "      border-color: transparent;\n",
              "      border-left-color: var(--fill-color);\n",
              "      border-top-color: var(--fill-color);\n",
              "      border-right-color: var(--fill-color);\n",
              "    }\n",
              "    40% {\n",
              "      border-color: transparent;\n",
              "      border-right-color: var(--fill-color);\n",
              "      border-top-color: var(--fill-color);\n",
              "    }\n",
              "    60% {\n",
              "      border-color: transparent;\n",
              "      border-right-color: var(--fill-color);\n",
              "    }\n",
              "    80% {\n",
              "      border-color: transparent;\n",
              "      border-right-color: var(--fill-color);\n",
              "      border-bottom-color: var(--fill-color);\n",
              "    }\n",
              "    90% {\n",
              "      border-color: transparent;\n",
              "      border-bottom-color: var(--fill-color);\n",
              "    }\n",
              "  }\n",
              "</style>\n",
              "\n",
              "  <script>\n",
              "    async function quickchart(key) {\n",
              "      const quickchartButtonEl =\n",
              "        document.querySelector('#' + key + ' button');\n",
              "      quickchartButtonEl.disabled = true;  // To prevent multiple clicks.\n",
              "      quickchartButtonEl.classList.add('colab-df-spinner');\n",
              "      try {\n",
              "        const charts = await google.colab.kernel.invokeFunction(\n",
              "            'suggestCharts', [key], {});\n",
              "      } catch (error) {\n",
              "        console.error('Error during call to suggestCharts:', error);\n",
              "      }\n",
              "      quickchartButtonEl.classList.remove('colab-df-spinner');\n",
              "      quickchartButtonEl.classList.add('colab-df-quickchart-complete');\n",
              "    }\n",
              "    (() => {\n",
              "      let quickchartButtonEl =\n",
              "        document.querySelector('#df-24801446-afd5-4829-b991-58742b38f1c8 button');\n",
              "      quickchartButtonEl.style.display =\n",
              "        google.colab.kernel.accessAllowed ? 'block' : 'none';\n",
              "    })();\n",
              "  </script>\n",
              "</div>\n",
              "\n",
              "    </div>\n",
              "  </div>\n"
            ],
            "application/vnd.google.colaboratory.intrinsic+json": {
              "type": "dataframe",
              "variable_name": "lens_type_df",
              "summary": "{\n  \"name\": \"lens_type_df\",\n  \"rows\": 15777,\n  \"fields\": [\n    {\n      \"column\": \"has_rear_camera_wideangle\",\n      \"properties\": {\n        \"dtype\": \"boolean\",\n        \"num_unique_values\": 2,\n        \"samples\": [\n          true,\n          false\n        ],\n        \"semantic_type\": \"\",\n        \"description\": \"\"\n      }\n    },\n    {\n      \"column\": \"has_rear_camera_ultrawide\",\n      \"properties\": {\n        \"dtype\": \"boolean\",\n        \"num_unique_values\": 2,\n        \"samples\": [\n          true,\n          false\n        ],\n        \"semantic_type\": \"\",\n        \"description\": \"\"\n      }\n    },\n    {\n      \"column\": \"has_rear_camera_telephoto\",\n      \"properties\": {\n        \"dtype\": \"boolean\",\n        \"num_unique_values\": 2,\n        \"samples\": [\n          true,\n          false\n        ],\n        \"semantic_type\": \"\",\n        \"description\": \"\"\n      }\n    },\n    {\n      \"column\": \"has_rear_camera_depthsensor\",\n      \"properties\": {\n        \"dtype\": \"boolean\",\n        \"num_unique_values\": 2,\n        \"samples\": [\n          true,\n          false\n        ],\n        \"semantic_type\": \"\",\n        \"description\": \"\"\n      }\n    },\n    {\n      \"column\": \"has_rear_camera_nightvision\",\n      \"properties\": {\n        \"dtype\": \"boolean\",\n        \"num_unique_values\": 2,\n        \"samples\": [\n          true,\n          false\n        ],\n        \"semantic_type\": \"\",\n        \"description\": \"\"\n      }\n    }\n  ]\n}"
            }
          },
          "metadata": {},
          "execution_count": 51
        }
      ]
    },
    {
      "cell_type": "code",
      "source": [
        "# Insering above columns\n",
        "for i,col in enumerate(lens_type_df.columns,df.columns.get_loc('camera_rear_camera')+1):\n",
        "    df.insert(i,col,lens_type_df[col])"
      ],
      "metadata": {
        "id": "ZxRa721qVtz3"
      },
      "execution_count": 52,
      "outputs": []
    },
    {
      "cell_type": "markdown",
      "source": [
        "## camera_flash"
      ],
      "metadata": {
        "id": "f_rHTsZnWlnb"
      }
    },
    {
      "cell_type": "code",
      "source": [
        "# Issue - It has two data types present: 1. Flash availability, and 2. The type of flash, and sometimes the only type of flash.\n",
        "\n",
        "df['camera_flash'].value_counts()"
      ],
      "metadata": {
        "colab": {
          "base_uri": "https://localhost:8080/"
        },
        "id": "VgwdPFHeWqwN",
        "outputId": "6b6d7b09-7a2a-4946-d8a9-28f3027c6265"
      },
      "execution_count": 53,
      "outputs": [
        {
          "output_type": "execute_result",
          "data": {
            "text/plain": [
              "camera_flash\n",
              "Yes, LED                        7456\n",
              "Yes, Dual LED                   1737\n",
              "Yes                              635\n",
              "No                               205\n",
              "Yes, Quad-LED                     68\n",
              "Yes, Quad LED                     42\n",
              "Yes, Triple LED                   25\n",
              "Yes, Xenon                        12\n",
              "Yes, True Tone Flash               8\n",
              "Yes, Six LED Dual Tone Flash       5\n",
              "Yes, 4 LED                         4\n",
              "Yes, Quad LED Flash                3\n",
              "Yes, Quad LED Ring                 3\n",
              "Yes, Quad Flash                    3\n",
              "Dual LED                           3\n",
              "LED                                3\n",
              "Yes, Yes                           2\n",
              "Yes, Six-LED                       2\n",
              "Yes, Penta LED                     1\n",
              "Yes, 4 Rear Flashes                1\n",
              "Yes, T-Flash                       1\n",
              "Yes, Front and Rear Flash          1\n",
              "Yes, Penta-LED                     1\n",
              "Name: count, dtype: int64"
            ]
          },
          "metadata": {},
          "execution_count": 53
        }
      ]
    },
    {
      "cell_type": "code",
      "source": [
        "has_flash = df['camera_flash'].fillna('').apply(lambda x: True if 'Yes' in x else False).astype('category')\n",
        "df.insert(df.columns.get_loc('camera_flash')+1,'has_flash',has_flash)\n",
        "df['has_flash'].value_counts()"
      ],
      "metadata": {
        "colab": {
          "base_uri": "https://localhost:8080/"
        },
        "id": "CAHfxsEnWgXt",
        "outputId": "4f407fde-641d-4c61-a8cd-67777b4b3566"
      },
      "execution_count": 54,
      "outputs": [
        {
          "output_type": "execute_result",
          "data": {
            "text/plain": [
              "has_flash\n",
              "True     10010\n",
              "False     5767\n",
              "Name: count, dtype: int64"
            ]
          },
          "metadata": {},
          "execution_count": 54
        }
      ]
    },
    {
      "cell_type": "markdown",
      "source": [
        "## camera_front_camera"
      ],
      "metadata": {
        "id": "QRAdPR8nXcoo"
      }
    },
    {
      "cell_type": "code",
      "source": [
        "# Issue - It has the camera megapixels and type of camera, and it also includes information about the flash types.\n",
        "\n",
        "df['camera_front_camera'] = df['camera_front_camera'].str.replace('\\u2009',' ')\n",
        "df['camera_front_camera'].value_counts()"
      ],
      "metadata": {
        "colab": {
          "base_uri": "https://localhost:8080/"
        },
        "id": "eD4QnbiaXV3a",
        "outputId": "950197c5-9d24-435d-c7bd-474e5dc4d7ed"
      },
      "execution_count": 55,
      "outputs": [
        {
          "output_type": "execute_result",
          "data": {
            "text/plain": [
              "camera_front_camera\n",
              "No                                                               6226\n",
              "5 MP                                                             1180\n",
              "0.3 MP                                                           1021\n",
              "2 MP                                                              786\n",
              "8 MP                                                              742\n",
              "                                                                 ... \n",
              "Punch Hole 16 MP f/2.1                                              1\n",
              "8 MP f/2 with Dual LED Flash                                        1\n",
              "Punch Hole 60 MP f/2.2 (Wide Angle)\\n60 MP f/2.2 (Wide Angle)       1\n",
              "32 MP f/2.4 (Main)                                                  1\n",
              "Punch Hole 8 MP 1.12µm (Wide Angle)                                 1\n",
              "Name: count, Length: 1003, dtype: int64"
            ]
          },
          "metadata": {},
          "execution_count": 55
        }
      ]
    },
    {
      "cell_type": "code",
      "source": [
        "front_camera_mp = df['camera_front_camera'].str.extract(r'([\\d+.]+) MP')\n",
        "has_front_camera = front_camera_mp.notna().astype('category')\n",
        "df.insert(df.columns.get_loc('camera_front_camera')+1,'has_front_camera',has_front_camera)\n",
        "df.insert(df.columns.get_loc('camera_front_camera')+2,'front_camera_mp',front_camera_mp)"
      ],
      "metadata": {
        "id": "-T83-32yXhcI"
      },
      "execution_count": 56,
      "outputs": []
    },
    {
      "cell_type": "markdown",
      "source": [
        "## technical_cpu"
      ],
      "metadata": {
        "id": "UNPzs4UWX9Xp"
      }
    },
    {
      "cell_type": "code",
      "source": [
        "# Issue - Most of the data contains a number of the cores of the CPU and its cycle speed, but some don't have core numbers.\n",
        "# cycle speed has three units, KHz, GHz and MHz\n",
        "\n",
        "df['technical_cpu'] = df['technical_cpu'].str.replace('\\u2009',' ')"
      ],
      "metadata": {
        "id": "9GPwCqcEX78j"
      },
      "execution_count": 57,
      "outputs": []
    },
    {
      "cell_type": "code",
      "source": [
        "def convert_to_ghz(clock_speed):\n",
        "    try:\n",
        "        value, unit = clock_speed.split(\" \")\n",
        "        value = float(value)\n",
        "        if unit == \"GHz\":\n",
        "            return value\n",
        "        elif unit == \"MHz\":\n",
        "            return value / 1000\n",
        "        elif unit == \"KHz\":\n",
        "            return value / 1000000\n",
        "    except Exception as e:\n",
        "        return 0"
      ],
      "metadata": {
        "id": "S3WU8yW6YAjB"
      },
      "execution_count": 58,
      "outputs": []
    },
    {
      "cell_type": "code",
      "source": [
        "df['technical_cpu'] = df['technical_cpu'].str.replace('\\u2009',' ')\n",
        "cpu_core_type = df['technical_cpu'].str.extract('([\\S]+) Core')\n",
        "clock_speed_ghz = df['technical_cpu'].str.extract('([\\d.]+\\s*[G|M|K]Hz)')[0].apply(convert_to_ghz)\n",
        "\n",
        "df.insert(df.columns.get_loc('technical_cpu')+1,'cpu_core_type',cpu_core_type)\n",
        "df.insert(df.columns.get_loc('technical_cpu')+2,'cpu_clock_speed_ghz',clock_speed_ghz)"
      ],
      "metadata": {
        "id": "JLLElOl-YCNK"
      },
      "execution_count": 59,
      "outputs": []
    },
    {
      "cell_type": "markdown",
      "source": [
        "## battery_type"
      ],
      "metadata": {
        "id": "5PIha1PYcWtu"
      }
    },
    {
      "cell_type": "code",
      "source": [
        "#  No Issue\n",
        "is_battery_removable = df['battery_type'].apply(lambda x: True if x=='Removable Battery' else False).astype('category')\n",
        "df.insert(df.columns.get_loc('battery_type')+1,'is_battery_removable',is_battery_removable)"
      ],
      "metadata": {
        "id": "7rjB59oQYpAN"
      },
      "execution_count": 60,
      "outputs": []
    },
    {
      "cell_type": "code",
      "source": [
        "is_battery_removable.value_counts()"
      ],
      "metadata": {
        "colab": {
          "base_uri": "https://localhost:8080/"
        },
        "id": "BV8EHbTudHNO",
        "outputId": "1f6752d0-2ad9-4a52-aa89-e8073e5f9391"
      },
      "execution_count": 61,
      "outputs": [
        {
          "output_type": "execute_result",
          "data": {
            "text/plain": [
              "battery_type\n",
              "True     8362\n",
              "False    7415\n",
              "Name: count, dtype: int64"
            ]
          },
          "metadata": {},
          "execution_count": 61
        }
      ]
    },
    {
      "cell_type": "markdown",
      "source": [
        "## battery_size"
      ],
      "metadata": {
        "id": "pvWjFyTceXtA"
      }
    },
    {
      "cell_type": "code",
      "source": [
        "# Issue - This field contains information about battery size in mAh and battery material. Some rows don't have battery material.\n",
        "#         The battery type is written differently, like Li-ion Battery, Li-ion, Lion, Li-Po Battery, or Li-Polymer battery\n",
        "\n",
        "df['battery_size'] = df['battery_size'].str.replace('\\u2009',' ')"
      ],
      "metadata": {
        "id": "EtnIMe-jeV6l"
      },
      "execution_count": 62,
      "outputs": []
    },
    {
      "cell_type": "code",
      "source": [
        "battery_size_mah = df['battery_size'].str.extract(r'([\\d]+) mAh').astype('float')\n",
        "df.insert(df.columns.get_loc('battery_size')+1,'battery_size_mah',battery_size_mah)"
      ],
      "metadata": {
        "id": "3ofjoVxCeZ6D"
      },
      "execution_count": 63,
      "outputs": []
    },
    {
      "cell_type": "code",
      "source": [
        "mapping = {\n",
        "    \"Li-ion Battery\": \"Li-Ion\",\n",
        "    \"Li-ion\": \"Li-Ion\",\n",
        "    \"lion\": \"Li-Ion\",\n",
        "    \"Li-lon\": \"Li-Ion\",\n",
        "    \"Li-on\": \"Li-Ion\",\n",
        "    \"Lithium-ion Polymer\": \"Li-Polymer\",\n",
        "    \"Lithium-Ion Polymer\": \"Li-Polymer\",\n",
        "    \"Li-Po Battery\": \"Li-Polymer\",\n",
        "    \"Li-Polymer\": \"Li-Polymer\",\n",
        "    \"Lithium\": \"Lithium\",\n",
        "    \"Lithium Ion\": \"Lithium\",\n",
        "    \"Lithlum Battery\": \"Lithium\",\n",
        "    \"Graphite\": \"Graphite\",\n",
        "    \"Polymer\": \"Polymer\",\n",
        "    \"Ni-MH Battery\": \"Ni-MH\",\n",
        "    \"1000\": \"Unknown\",\n",
        "    \"NA\": \"Unknown\"\n",
        "}\n",
        "\n",
        "battery_material = df['battery_size'].str.split(',').str.get(1).str.strip().replace(mapping).astype('category')\n",
        "df.insert(df.columns.get_loc('battery_size')+2,'battery_material',battery_material)"
      ],
      "metadata": {
        "id": "eqVGnz1Ee_25"
      },
      "execution_count": 64,
      "outputs": []
    },
    {
      "cell_type": "markdown",
      "source": [
        "## design_dimensions"
      ],
      "metadata": {
        "id": "Qj5F7qeGfvEb"
      }
    },
    {
      "cell_type": "code",
      "source": [
        "# Issue - Most of the data has dimensions in mm, but a few also have inches.\n",
        "\n",
        "df['design_dimensions'].value_counts()"
      ],
      "metadata": {
        "colab": {
          "base_uri": "https://localhost:8080/"
        },
        "id": "fuZQaPxWfnni",
        "outputId": "faf671db-c819-4e02-adee-16e9ca33fb07"
      },
      "execution_count": 65,
      "outputs": [
        {
          "output_type": "execute_result",
          "data": {
            "text/plain": [
              "design_dimensions\n",
              "-                           96\n",
              "47 x 112 x 10 mm            41\n",
              "75.9 x 164.2 x 9.1 mm       18\n",
              "52 x 127 x 14.2 mm          16\n",
              "25.5 x 80 x 50 mm           15\n",
              "                            ..\n",
              "141.5 x 70.7 x 11 mm         1\n",
              "75.2 x 153.6 x 7.9 mm        1\n",
              "69.59 x 139.69 x 9.69 mm     1\n",
              "66.3 x 131.69 x 8.8 mm       1\n",
              "45.8 x 125 x 10.1 mm         1\n",
              "Name: count, Length: 6301, dtype: int64"
            ]
          },
          "metadata": {},
          "execution_count": 65
        }
      ]
    },
    {
      "cell_type": "code",
      "source": [
        "dim = df['design_dimensions'].str.extract(r'([\\d.]+) x ([\\d.]+) x ([\\d.]+) mm').apply(pd.to_numeric)\n",
        "# Converting to inch\n",
        "hight_inch =  dim[0] * 0.0393701\n",
        "width_inch =  dim[1] * 0.0393701\n",
        "depth_inch =  dim[2] * 0.0393701\n",
        "\n",
        "df.insert(df.columns.get_loc('design_dimensions')+1,'hight_inch',hight_inch)\n",
        "df.insert(df.columns.get_loc('design_dimensions')+2,'width_inch',width_inch)\n",
        "df.insert(df.columns.get_loc('design_dimensions')+3,'depth_inch',depth_inch)"
      ],
      "metadata": {
        "id": "0HiyUMK5f4oE"
      },
      "execution_count": 66,
      "outputs": []
    },
    {
      "cell_type": "markdown",
      "source": [
        "## design_weight"
      ],
      "metadata": {
        "id": "cOcltDBzglic"
      }
    },
    {
      "cell_type": "code",
      "source": [
        "#  No Issue.\n",
        "weight_gram = df['design_weight'].str.extract(r'([\\d]+)').astype('float')\n",
        "# weight_gram\n",
        "df.insert(df.columns.get_loc('design_weight')+3,'weight_gram',weight_gram)"
      ],
      "metadata": {
        "id": "Ls8BGQvOgh6F"
      },
      "execution_count": 67,
      "outputs": []
    },
    {
      "cell_type": "markdown",
      "source": [
        "## display_ppi"
      ],
      "metadata": {
        "id": "13CWfIwEhFgj"
      }
    },
    {
      "cell_type": "code",
      "source": [
        "# No Issue\n",
        "\n",
        "df['display_ppi'] = df['display_ppi'].str.extract('([\\d.]+)').astype('float')"
      ],
      "metadata": {
        "id": "guMdVW8ghBOn"
      },
      "execution_count": 68,
      "outputs": []
    },
    {
      "cell_type": "markdown",
      "source": [
        "## connectivity_volte"
      ],
      "metadata": {
        "id": "6MR43E7PhXsm"
      }
    },
    {
      "cell_type": "code",
      "source": [
        "# Issue - It has two types of data: 1. volte-connectivity and type of connecctivity\n",
        "\n",
        "df['connectivity_volte'].value_counts()"
      ],
      "metadata": {
        "colab": {
          "base_uri": "https://localhost:8080/"
        },
        "id": "pThySe5chWdh",
        "outputId": "877145b2-91e5-454d-f0ff-29d9b349f3de"
      },
      "execution_count": 69,
      "outputs": [
        {
          "output_type": "execute_result",
          "data": {
            "text/plain": [
              "connectivity_volte\n",
              "Yes                   3823\n",
              "Yes, Dual Stand-By    2394\n",
              "Dual Stand-By            3\n",
              "Name: count, dtype: int64"
            ]
          },
          "metadata": {},
          "execution_count": 69
        }
      ]
    },
    {
      "cell_type": "code",
      "source": [
        "has_volte = df['connectivity_volte'].apply(lambda x: False if pd.isna(x) else True).astype('category')\n",
        "has_volte.value_counts()\n",
        "df.insert(df.columns.get_loc('has_4g'),'has_volte',has_volte)"
      ],
      "metadata": {
        "id": "uODTRdaYhbxt"
      },
      "execution_count": 70,
      "outputs": []
    },
    {
      "cell_type": "markdown",
      "source": [
        "## technical_chipset"
      ],
      "metadata": {
        "id": "7GlkA4V2h50C"
      }
    },
    {
      "cell_type": "code",
      "source": [
        "# Issue - It combines the manufacturer, series and model of the chipset.\n",
        "#         Sometimes, only manufacturers and sometimes only models are available in the data\n",
        "def extract_chipset_info(chipset):\n",
        "    parts = [part.capitalize().strip() for part in chipset.split()]\n",
        "    manufacturer_list = ['intel','nvidia','broadcom','apple','spreadtrum']\n",
        "\n",
        "    if len(parts) == 0:\n",
        "        return\n",
        "    if len(parts) == 1 and parts[0].lower() in manufacturer_list: # e.g., 'Apple'\n",
        "        return parts[0], None, None\n",
        "    elif len(parts) == 1:\n",
        "        return None, None, parts[0]\n",
        "    elif len(parts) == 2:  # e.g., 'Unisoc T606'\n",
        "        return parts[0], parts[1], None\n",
        "    else:  # e.g., 'MediaTek Helio MT6739'\n",
        "        return parts[0], parts[1], ' '.join(parts[2:])"
      ],
      "metadata": {
        "id": "u4GgpSGdh1MZ"
      },
      "execution_count": 71,
      "outputs": []
    },
    {
      "cell_type": "code",
      "source": [
        "chipset = df['technical_chipset'].fillna('').apply(lambda x: pd.Series(extract_chipset_info(x)))\n",
        "chipset_manufacturer = chipset[0]\n",
        "chipset_series = chipset[1]\n",
        "chipset_model = chipset[2]\n",
        "\n",
        "df.insert(df.columns.get_loc('technical_chipset')+1,'chipset_manufacturer',chipset[0])\n",
        "df.insert(df.columns.get_loc('technical_chipset')+2,'chipset_series',chipset[1])\n",
        "df.insert(df.columns.get_loc('technical_chipset')+3,'chipset_model',chipset[2])"
      ],
      "metadata": {
        "id": "zFALLYwih4pu"
      },
      "execution_count": 72,
      "outputs": []
    },
    {
      "cell_type": "markdown",
      "source": [
        "## connectivity_5g"
      ],
      "metadata": {
        "id": "xv2DvRI_in14"
      }
    },
    {
      "cell_type": "code",
      "source": [
        "# No Issue\n",
        "df['connectivity_5g'].value_counts()"
      ],
      "metadata": {
        "colab": {
          "base_uri": "https://localhost:8080/"
        },
        "id": "HoibxePvisQU",
        "outputId": "11b0b4ca-4a05-46a5-9a09-f148102c1cac"
      },
      "execution_count": 73,
      "outputs": [
        {
          "output_type": "execute_result",
          "data": {
            "text/plain": [
              "connectivity_5g\n",
              "Yes    2214\n",
              "No      260\n",
              "Name: count, dtype: int64"
            ]
          },
          "metadata": {},
          "execution_count": 73
        }
      ]
    },
    {
      "cell_type": "code",
      "source": [
        "has_5g = df['connectivity_5g'].apply(lambda x: True if x=='Yes' else False).astype('category')\n",
        "has_5g.value_counts()\n",
        "df.insert(df.columns.get_loc('connectivity_5g'),'has_5g',has_5g)"
      ],
      "metadata": {
        "id": "SW4Wc25xijyR"
      },
      "execution_count": 74,
      "outputs": []
    },
    {
      "cell_type": "markdown",
      "source": [
        "## extra_water_resistance"
      ],
      "metadata": {
        "id": "CQXDQocZxjC1"
      }
    },
    {
      "cell_type": "code",
      "source": [
        "# Issue - It has ip_rating, and water resistance time combined with the data, and sometimes only ip_rating are in it.\n",
        "df['extra_water_resistance'].value_counts().sample(3)"
      ],
      "metadata": {
        "colab": {
          "base_uri": "https://localhost:8080/"
        },
        "id": "Z2RGrzRcxnb6",
        "outputId": "1a177a3e-5e60-4465-856e-06425073d112"
      },
      "execution_count": 75,
      "outputs": [
        {
          "output_type": "execute_result",
          "data": {
            "text/plain": [
              "extra_water_resistance\n",
              "Yes                                               277\n",
              "Water & Dust Proof Protection                       2\n",
              "Yes, 1.5 m upto 30 min, Water-repellent Design      9\n",
              "Name: count, dtype: int64"
            ]
          },
          "metadata": {},
          "execution_count": 75
        }
      ]
    },
    {
      "cell_type": "code",
      "source": [
        "has_water_resistance = df['extra_water_resistance'].fillna('').apply(lambda x: True if 'Yes' in x else False).astype('category')\n",
        "has_water_resistance\n",
        "df.insert(df.columns.get_loc('extra_water_resistance')+1,'has_water_resistance',has_water_resistance)"
      ],
      "metadata": {
        "id": "jhwwkj5Jx4wT"
      },
      "execution_count": 76,
      "outputs": []
    },
    {
      "cell_type": "markdown",
      "source": [
        "## battery_wireless_charging"
      ],
      "metadata": {
        "id": "CniAVgdqpK9c"
      }
    },
    {
      "cell_type": "code",
      "source": [
        "has_wireless_charging = df['battery_wireless_charging'].fillna('').apply(lambda x: True if 'Yes' in x else False).astype('category')\n",
        "# has_wireless_charging.value_counts()\n",
        "df.insert(df.columns.get_loc('battery_wireless_charging')+1,'has_wireless_charging',has_wireless_charging)"
      ],
      "metadata": {
        "id": "Lni1rNjnjDyE"
      },
      "execution_count": 77,
      "outputs": []
    },
    {
      "cell_type": "markdown",
      "source": [
        "## battery_reverse_wireless_charging"
      ],
      "metadata": {
        "id": "t0nnXun-paGN"
      }
    },
    {
      "cell_type": "code",
      "source": [
        "df['battery_reverse_charging'].value_counts()"
      ],
      "metadata": {
        "colab": {
          "base_uri": "https://localhost:8080/"
        },
        "id": "HT9YzxzQpo0Z",
        "outputId": "d9884561-7105-4945-a783-705485f1482e"
      },
      "execution_count": 78,
      "outputs": [
        {
          "output_type": "execute_result",
          "data": {
            "text/plain": [
              "battery_reverse_charging\n",
              "Yes                               537\n",
              "Yes, 5W                           116\n",
              "Yes, 10W                           89\n",
              "Yes, 4.5W                          44\n",
              "Yes, 2.5W                          12\n",
              "Yes, 9W Reverse Charging           10\n",
              "Yes, 9W                             9\n",
              "Yes, 5W Reverse Charging            7\n",
              "Yes, 7.5W                           4\n",
              "Yes, 6W                             3\n",
              "Yes, 18W                            2\n",
              "10W Fast Charging                   1\n",
              "Yes, 10W Fast Charging              1\n",
              "Yes, 10 W                           1\n",
              "Yes, 33W fast Charging              1\n",
              "Yes, 15W                            1\n",
              "Yes, 22.5W                          1\n",
              "Yes, 10W Reverse Charging           1\n",
              "Yes, Reverse wireless charging      1\n",
              "Yes, 33W                            1\n",
              "Name: count, dtype: int64"
            ]
          },
          "metadata": {},
          "execution_count": 78
        }
      ]
    },
    {
      "cell_type": "code",
      "source": [
        "has_reverse_charging = df['battery_reverse_charging'].str.replace('10W Fast Charging','Yes').fillna('').apply(lambda x: True if 'Yes' in x else False)\n",
        "has_reverse_charging_1 = df['battery_reverse_wireless_charging'].fillna('').apply(lambda x: True if 'Yes' in x else False)\n",
        "combined_reverse_charging = (has_reverse_charging + has_reverse_charging_1).astype('category')\n",
        "df.insert(df.columns.get_loc('battery_reverse_wireless_charging')+1,'has_reverse_charging',combined_reverse_charging)\n",
        "# combined_reverse_charging.value_counts()"
      ],
      "metadata": {
        "id": "i0ASpWy5pYYf"
      },
      "execution_count": 79,
      "outputs": []
    }
  ]
}